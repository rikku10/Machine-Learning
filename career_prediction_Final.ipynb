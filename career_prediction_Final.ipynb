{
  "nbformat": 4,
  "nbformat_minor": 0,
  "metadata": {
    "colab": {
      "name": "career prediction Final.ipynb",
      "provenance": [],
      "collapsed_sections": [],
      "include_colab_link": true
    },
    "kernelspec": {
      "name": "python3",
      "display_name": "Python 3"
    },
    "language_info": {
      "name": "python"
    }
  },
  "cells": [
    {
      "cell_type": "markdown",
      "metadata": {
        "id": "view-in-github",
        "colab_type": "text"
      },
      "source": [
        "<a href=\"https://colab.research.google.com/github/abhiskp/Machine-Learning---A-Case-Study/blob/main/career_prediction_Final.ipynb\" target=\"_parent\"><img src=\"https://colab.research.google.com/assets/colab-badge.svg\" alt=\"Open In Colab\"/></a>"
      ]
    },
    {
      "cell_type": "markdown",
      "metadata": {
        "id": "gtk_JoN29eE2"
      },
      "source": [
        "19CSE305\n",
        "Machine learning case study\n",
        "\n"
      ]
    },
    {
      "cell_type": "markdown",
      "metadata": {
        "id": "RyLbujDX9jCE"
      },
      "source": [
        "Education and Career Recommender \n",
        "System\n"
      ]
    },
    {
      "cell_type": "markdown",
      "metadata": {
        "id": "NFs90c4V9lw-"
      },
      "source": [
        "\n",
        "\n",
        "\n",
        "#Group 3\n",
        "*CB.EN.U4CSE19102  - ABHIJITH SHAJI\n",
        "\n",
        "\n",
        "*CB.EN.U4CSE19108 -  DEEPTHI\n",
        "\n",
        "\n",
        "*CB.EN.U4CSE19117 - HRISHIKESH MENON\n",
        "\n",
        "\n",
        "*CB.EN.U4CSE19146 - SHRIKARTHIK\n",
        "\n",
        "\n",
        "\n",
        "\n"
      ]
    },
    {
      "cell_type": "code",
      "metadata": {
        "id": "EM8jQ7bCZ_gY"
      },
      "source": [
        "import pandas as pd\n",
        "import numpy as np\n",
        "import matplotlib.pyplot as plt\n",
        "import matplotlib as mpl\n",
        "import seaborn as sns\n",
        "import sklearn\n",
        "from sklearn import preprocessing\n",
        "from sklearn.metrics import accuracy_score\n",
        "from sklearn.metrics import classification_report\n",
        "from sklearn.metrics import confusion_matrix"
      ],
      "execution_count": null,
      "outputs": []
    },
    {
      "cell_type": "code",
      "metadata": {
        "colab": {
          "base_uri": "https://localhost:8080/",
          "height": 382
        },
        "id": "PJIwmEuiZ_Ve",
        "outputId": "2292a3d9-18aa-4d36-eab3-93e6cd192dcd"
      },
      "source": [
        "df = pd.read_csv('https://raw.githubusercontent.com/abhiskp/Machine-Learning---A-Case-Study/main/career_compute_dataset.csv')\n",
        "df.head()"
      ],
      "execution_count": null,
      "outputs": [
        {
          "output_type": "execute_result",
          "data": {
            "text/html": [
              "<div>\n",
              "<style scoped>\n",
              "    .dataframe tbody tr th:only-of-type {\n",
              "        vertical-align: middle;\n",
              "    }\n",
              "\n",
              "    .dataframe tbody tr th {\n",
              "        vertical-align: top;\n",
              "    }\n",
              "\n",
              "    .dataframe thead th {\n",
              "        text-align: right;\n",
              "    }\n",
              "</style>\n",
              "<table border=\"1\" class=\"dataframe\">\n",
              "  <thead>\n",
              "    <tr style=\"text-align: right;\">\n",
              "      <th></th>\n",
              "      <th>SSC Score</th>\n",
              "      <th>HSC score</th>\n",
              "      <th>Cgpa</th>\n",
              "      <th>school_Rank</th>\n",
              "      <th>no_of_miniprojects</th>\n",
              "      <th>no_of_projects</th>\n",
              "      <th>coresub_skill</th>\n",
              "      <th>aptitude_skill</th>\n",
              "      <th>problemsolving_skill</th>\n",
              "      <th>programming_skill</th>\n",
              "      <th>abstractthink_skill</th>\n",
              "      <th>design_skill</th>\n",
              "      <th>self-learning capability?</th>\n",
              "      <th>reading and writing skills</th>\n",
              "      <th>memory capability score</th>\n",
              "      <th>Coding_Skills</th>\n",
              "      <th>technology_used</th>\n",
              "      <th>sympos_attend</th>\n",
              "      <th>sympos_won</th>\n",
              "      <th>extracurricular</th>\n",
              "      <th>learning_style</th>\n",
              "      <th>Type of company want to settle in?</th>\n",
              "      <th>clg_teachers_know</th>\n",
              "      <th>college_performence</th>\n",
              "      <th>Technical_Skills</th>\n",
              "      <th>ROLE</th>\n",
              "    </tr>\n",
              "  </thead>\n",
              "  <tbody>\n",
              "    <tr>\n",
              "      <th>0</th>\n",
              "      <td>2</td>\n",
              "      <td>3</td>\n",
              "      <td>2</td>\n",
              "      <td>3</td>\n",
              "      <td>1</td>\n",
              "      <td>1</td>\n",
              "      <td>1</td>\n",
              "      <td>1</td>\n",
              "      <td>2</td>\n",
              "      <td>4</td>\n",
              "      <td>2</td>\n",
              "      <td>2</td>\n",
              "      <td>2</td>\n",
              "      <td>3</td>\n",
              "      <td>4</td>\n",
              "      <td>1</td>\n",
              "      <td>1</td>\n",
              "      <td>3</td>\n",
              "      <td>1</td>\n",
              "      <td>2</td>\n",
              "      <td>2</td>\n",
              "      <td>4</td>\n",
              "      <td>3</td>\n",
              "      <td>4</td>\n",
              "      <td>5</td>\n",
              "      <td>Technical Support</td>\n",
              "    </tr>\n",
              "    <tr>\n",
              "      <th>1</th>\n",
              "      <td>3</td>\n",
              "      <td>1</td>\n",
              "      <td>2</td>\n",
              "      <td>2</td>\n",
              "      <td>2</td>\n",
              "      <td>1</td>\n",
              "      <td>1</td>\n",
              "      <td>3</td>\n",
              "      <td>2</td>\n",
              "      <td>4</td>\n",
              "      <td>3</td>\n",
              "      <td>3</td>\n",
              "      <td>1</td>\n",
              "      <td>3</td>\n",
              "      <td>4</td>\n",
              "      <td>2</td>\n",
              "      <td>2</td>\n",
              "      <td>3</td>\n",
              "      <td>2</td>\n",
              "      <td>3</td>\n",
              "      <td>2</td>\n",
              "      <td>5</td>\n",
              "      <td>3</td>\n",
              "      <td>3</td>\n",
              "      <td>4</td>\n",
              "      <td>Software Developer</td>\n",
              "    </tr>\n",
              "    <tr>\n",
              "      <th>2</th>\n",
              "      <td>3</td>\n",
              "      <td>4</td>\n",
              "      <td>2</td>\n",
              "      <td>2</td>\n",
              "      <td>1</td>\n",
              "      <td>1</td>\n",
              "      <td>1</td>\n",
              "      <td>2</td>\n",
              "      <td>3</td>\n",
              "      <td>3</td>\n",
              "      <td>2</td>\n",
              "      <td>3</td>\n",
              "      <td>2</td>\n",
              "      <td>2</td>\n",
              "      <td>2</td>\n",
              "      <td>1</td>\n",
              "      <td>1</td>\n",
              "      <td>4</td>\n",
              "      <td>3</td>\n",
              "      <td>1</td>\n",
              "      <td>4</td>\n",
              "      <td>3</td>\n",
              "      <td>3</td>\n",
              "      <td>3</td>\n",
              "      <td>4</td>\n",
              "      <td>UI/UX Designer</td>\n",
              "    </tr>\n",
              "    <tr>\n",
              "      <th>3</th>\n",
              "      <td>3</td>\n",
              "      <td>4</td>\n",
              "      <td>2</td>\n",
              "      <td>1</td>\n",
              "      <td>1</td>\n",
              "      <td>1</td>\n",
              "      <td>1</td>\n",
              "      <td>1</td>\n",
              "      <td>3</td>\n",
              "      <td>2</td>\n",
              "      <td>2</td>\n",
              "      <td>2</td>\n",
              "      <td>2</td>\n",
              "      <td>3</td>\n",
              "      <td>4</td>\n",
              "      <td>2</td>\n",
              "      <td>1</td>\n",
              "      <td>3</td>\n",
              "      <td>2</td>\n",
              "      <td>1</td>\n",
              "      <td>2</td>\n",
              "      <td>1</td>\n",
              "      <td>4</td>\n",
              "      <td>4</td>\n",
              "      <td>3</td>\n",
              "      <td>Technical Support</td>\n",
              "    </tr>\n",
              "    <tr>\n",
              "      <th>4</th>\n",
              "      <td>2</td>\n",
              "      <td>3</td>\n",
              "      <td>2</td>\n",
              "      <td>4</td>\n",
              "      <td>1</td>\n",
              "      <td>1</td>\n",
              "      <td>1</td>\n",
              "      <td>4</td>\n",
              "      <td>3</td>\n",
              "      <td>3</td>\n",
              "      <td>2</td>\n",
              "      <td>3</td>\n",
              "      <td>2</td>\n",
              "      <td>4</td>\n",
              "      <td>4</td>\n",
              "      <td>2</td>\n",
              "      <td>1</td>\n",
              "      <td>2</td>\n",
              "      <td>1</td>\n",
              "      <td>3</td>\n",
              "      <td>1</td>\n",
              "      <td>5</td>\n",
              "      <td>4</td>\n",
              "      <td>3</td>\n",
              "      <td>1</td>\n",
              "      <td>Data Analyst</td>\n",
              "    </tr>\n",
              "  </tbody>\n",
              "</table>\n",
              "</div>"
            ],
            "text/plain": [
              "   SSC Score  HSC score  ...  Technical_Skills                ROLE\n",
              "0          2          3  ...                 5   Technical Support\n",
              "1          3          1  ...                 4  Software Developer\n",
              "2          3          4  ...                 4      UI/UX Designer\n",
              "3          3          4  ...                 3   Technical Support\n",
              "4          2          3  ...                 1        Data Analyst\n",
              "\n",
              "[5 rows x 26 columns]"
            ]
          },
          "metadata": {},
          "execution_count": 46
        }
      ]
    },
    {
      "cell_type": "code",
      "metadata": {
        "colab": {
          "base_uri": "https://localhost:8080/"
        },
        "id": "-O7wtNPtaFYa",
        "outputId": "e9d2f557-66b1-4747-d08c-2ff6701ea64c"
      },
      "source": [
        "df.dtypes\n"
      ],
      "execution_count": null,
      "outputs": [
        {
          "output_type": "execute_result",
          "data": {
            "text/plain": [
              "SSC Score                              int64\n",
              "HSC score                              int64\n",
              "Cgpa                                   int64\n",
              "school_Rank                            int64\n",
              "no_of_miniprojects                     int64\n",
              "no_of_projects                         int64\n",
              "coresub_skill                          int64\n",
              "aptitude_skill                         int64\n",
              "problemsolving_skill                   int64\n",
              "programming_skill                      int64\n",
              "abstractthink_skill                    int64\n",
              "design_skill                           int64\n",
              "self-learning capability?              int64\n",
              "reading and writing skills             int64\n",
              "memory capability score                int64\n",
              "Coding_Skills                          int64\n",
              "technology_used                        int64\n",
              "sympos_attend                          int64\n",
              "sympos_won                             int64\n",
              "extracurricular                        int64\n",
              "learning_style                        object\n",
              "Type of company want to settle in?     int64\n",
              "clg_teachers_know                      int64\n",
              "college_performence                    int64\n",
              "Technical_Skills                       int64\n",
              "ROLE                                  object\n",
              "dtype: object"
            ]
          },
          "metadata": {},
          "execution_count": 47
        }
      ]
    },
    {
      "cell_type": "code",
      "metadata": {
        "colab": {
          "base_uri": "https://localhost:8080/"
        },
        "id": "eGVsBWkRaKiz",
        "outputId": "b7b85500-6855-472c-cd27-79c106181b61"
      },
      "source": [
        "df.shape"
      ],
      "execution_count": null,
      "outputs": [
        {
          "output_type": "execute_result",
          "data": {
            "text/plain": [
              "(7525, 26)"
            ]
          },
          "metadata": {},
          "execution_count": 48
        }
      ]
    },
    {
      "cell_type": "code",
      "metadata": {
        "id": "IrwtiOYlaP_j"
      },
      "source": [
        "new = df[['coresub_skill','SSC Score','HSC score','Cgpa','no_of_miniprojects','no_of_projects','memory capability score','aptitude_skill','problemsolving_skill','abstractthink_skill','design_skill','reading and writing skills','Coding_Skills','Technical_Skills']]"
      ],
      "execution_count": null,
      "outputs": []
    },
    {
      "cell_type": "code",
      "metadata": {
        "id": "X1LeibixaSWh"
      },
      "source": [
        "df=df.dropna()\n"
      ],
      "execution_count": null,
      "outputs": []
    },
    {
      "cell_type": "code",
      "metadata": {
        "colab": {
          "base_uri": "https://localhost:8080/"
        },
        "id": "ug85673DaUcL",
        "outputId": "6d1013a5-5277-4eb9-8d8e-8bef6fb68276"
      },
      "source": [
        "new.isnull().sum()"
      ],
      "execution_count": null,
      "outputs": [
        {
          "output_type": "execute_result",
          "data": {
            "text/plain": [
              "coresub_skill                 0\n",
              "SSC Score                     0\n",
              "HSC score                     0\n",
              "Cgpa                          0\n",
              "no_of_miniprojects            0\n",
              "no_of_projects                0\n",
              "memory capability score       0\n",
              "aptitude_skill                0\n",
              "problemsolving_skill          0\n",
              "abstractthink_skill           0\n",
              "design_skill                  0\n",
              "reading and writing skills    0\n",
              "Coding_Skills                 0\n",
              "Technical_Skills              0\n",
              "dtype: int64"
            ]
          },
          "metadata": {},
          "execution_count": 51
        }
      ]
    },
    {
      "cell_type": "code",
      "metadata": {
        "id": "4cSVLGJ1aV7p"
      },
      "source": [
        "new= new.dropna()"
      ],
      "execution_count": null,
      "outputs": []
    },
    {
      "cell_type": "code",
      "metadata": {
        "colab": {
          "base_uri": "https://localhost:8080/"
        },
        "id": "wxIoDFvTadqs",
        "outputId": "736ad057-95cd-4507-d509-85a2841966b6"
      },
      "source": [
        "new.shape"
      ],
      "execution_count": null,
      "outputs": [
        {
          "output_type": "execute_result",
          "data": {
            "text/plain": [
              "(7525, 14)"
            ]
          },
          "metadata": {},
          "execution_count": 53
        }
      ]
    },
    {
      "cell_type": "code",
      "metadata": {
        "colab": {
          "base_uri": "https://localhost:8080/"
        },
        "id": "4GAtZJ0bagM-",
        "outputId": "ee2bd336-2e69-4fcb-e3f0-34d8a6b447a6"
      },
      "source": [
        "new.dtypes"
      ],
      "execution_count": null,
      "outputs": [
        {
          "output_type": "execute_result",
          "data": {
            "text/plain": [
              "coresub_skill                 int64\n",
              "SSC Score                     int64\n",
              "HSC score                     int64\n",
              "Cgpa                          int64\n",
              "no_of_miniprojects            int64\n",
              "no_of_projects                int64\n",
              "memory capability score       int64\n",
              "aptitude_skill                int64\n",
              "problemsolving_skill          int64\n",
              "abstractthink_skill           int64\n",
              "design_skill                  int64\n",
              "reading and writing skills    int64\n",
              "Coding_Skills                 int64\n",
              "Technical_Skills              int64\n",
              "dtype: object"
            ]
          },
          "metadata": {},
          "execution_count": 54
        }
      ]
    },
    {
      "cell_type": "code",
      "metadata": {
        "colab": {
          "base_uri": "https://localhost:8080/"
        },
        "id": "K6Gt77feahma",
        "outputId": "8df46cd5-3818-46ed-94d5-04d49af24f3b"
      },
      "source": [
        "new.isnull().sum()\n",
        "\n"
      ],
      "execution_count": null,
      "outputs": [
        {
          "output_type": "execute_result",
          "data": {
            "text/plain": [
              "coresub_skill                 0\n",
              "SSC Score                     0\n",
              "HSC score                     0\n",
              "Cgpa                          0\n",
              "no_of_miniprojects            0\n",
              "no_of_projects                0\n",
              "memory capability score       0\n",
              "aptitude_skill                0\n",
              "problemsolving_skill          0\n",
              "abstractthink_skill           0\n",
              "design_skill                  0\n",
              "reading and writing skills    0\n",
              "Coding_Skills                 0\n",
              "Technical_Skills              0\n",
              "dtype: int64"
            ]
          },
          "metadata": {},
          "execution_count": 55
        }
      ]
    },
    {
      "cell_type": "markdown",
      "metadata": {
        "id": "BzWHfgyZaxP1"
      },
      "source": [
        "Feature Engineering \n",
        "\n",
        "Consolidating the skills and other activities to get the desired field of expertise"
      ]
    },
    {
      "cell_type": "code",
      "metadata": {
        "colab": {
          "base_uri": "https://localhost:8080/",
          "height": 206
        },
        "id": "PFXcnrzYbDGB",
        "outputId": "5819a785-ab96-412a-e890-e2e93aeffc71"
      },
      "source": [
        "X = new[['coresub_skill','aptitude_skill','problemsolving_skill','abstractthink_skill','design_skill','reading and writing skills','Coding_Skills','Technical_Skills']]\n",
        "Y = new[['SSC Score','HSC score','Cgpa','no_of_miniprojects','no_of_projects','memory capability score']]\n",
        "X.head()"
      ],
      "execution_count": null,
      "outputs": [
        {
          "output_type": "execute_result",
          "data": {
            "text/html": [
              "<div>\n",
              "<style scoped>\n",
              "    .dataframe tbody tr th:only-of-type {\n",
              "        vertical-align: middle;\n",
              "    }\n",
              "\n",
              "    .dataframe tbody tr th {\n",
              "        vertical-align: top;\n",
              "    }\n",
              "\n",
              "    .dataframe thead th {\n",
              "        text-align: right;\n",
              "    }\n",
              "</style>\n",
              "<table border=\"1\" class=\"dataframe\">\n",
              "  <thead>\n",
              "    <tr style=\"text-align: right;\">\n",
              "      <th></th>\n",
              "      <th>coresub_skill</th>\n",
              "      <th>aptitude_skill</th>\n",
              "      <th>problemsolving_skill</th>\n",
              "      <th>abstractthink_skill</th>\n",
              "      <th>design_skill</th>\n",
              "      <th>reading and writing skills</th>\n",
              "      <th>Coding_Skills</th>\n",
              "      <th>Technical_Skills</th>\n",
              "    </tr>\n",
              "  </thead>\n",
              "  <tbody>\n",
              "    <tr>\n",
              "      <th>0</th>\n",
              "      <td>1</td>\n",
              "      <td>1</td>\n",
              "      <td>2</td>\n",
              "      <td>2</td>\n",
              "      <td>2</td>\n",
              "      <td>3</td>\n",
              "      <td>1</td>\n",
              "      <td>5</td>\n",
              "    </tr>\n",
              "    <tr>\n",
              "      <th>1</th>\n",
              "      <td>1</td>\n",
              "      <td>3</td>\n",
              "      <td>2</td>\n",
              "      <td>3</td>\n",
              "      <td>3</td>\n",
              "      <td>3</td>\n",
              "      <td>2</td>\n",
              "      <td>4</td>\n",
              "    </tr>\n",
              "    <tr>\n",
              "      <th>2</th>\n",
              "      <td>1</td>\n",
              "      <td>2</td>\n",
              "      <td>3</td>\n",
              "      <td>2</td>\n",
              "      <td>3</td>\n",
              "      <td>2</td>\n",
              "      <td>1</td>\n",
              "      <td>4</td>\n",
              "    </tr>\n",
              "    <tr>\n",
              "      <th>3</th>\n",
              "      <td>1</td>\n",
              "      <td>1</td>\n",
              "      <td>3</td>\n",
              "      <td>2</td>\n",
              "      <td>2</td>\n",
              "      <td>3</td>\n",
              "      <td>2</td>\n",
              "      <td>3</td>\n",
              "    </tr>\n",
              "    <tr>\n",
              "      <th>4</th>\n",
              "      <td>1</td>\n",
              "      <td>4</td>\n",
              "      <td>3</td>\n",
              "      <td>2</td>\n",
              "      <td>3</td>\n",
              "      <td>4</td>\n",
              "      <td>2</td>\n",
              "      <td>1</td>\n",
              "    </tr>\n",
              "  </tbody>\n",
              "</table>\n",
              "</div>"
            ],
            "text/plain": [
              "   coresub_skill  aptitude_skill  ...  Coding_Skills  Technical_Skills\n",
              "0              1               1  ...              1                 5\n",
              "1              1               3  ...              2                 4\n",
              "2              1               2  ...              1                 4\n",
              "3              1               1  ...              2                 3\n",
              "4              1               4  ...              2                 1\n",
              "\n",
              "[5 rows x 8 columns]"
            ]
          },
          "metadata": {},
          "execution_count": 56
        }
      ]
    },
    {
      "cell_type": "code",
      "metadata": {
        "colab": {
          "base_uri": "https://localhost:8080/",
          "height": 206
        },
        "id": "nVU3E4FXbGih",
        "outputId": "2b01bc8a-e52a-4101-fc91-db3bf1fe3022"
      },
      "source": [
        "Y.head()"
      ],
      "execution_count": null,
      "outputs": [
        {
          "output_type": "execute_result",
          "data": {
            "text/html": [
              "<div>\n",
              "<style scoped>\n",
              "    .dataframe tbody tr th:only-of-type {\n",
              "        vertical-align: middle;\n",
              "    }\n",
              "\n",
              "    .dataframe tbody tr th {\n",
              "        vertical-align: top;\n",
              "    }\n",
              "\n",
              "    .dataframe thead th {\n",
              "        text-align: right;\n",
              "    }\n",
              "</style>\n",
              "<table border=\"1\" class=\"dataframe\">\n",
              "  <thead>\n",
              "    <tr style=\"text-align: right;\">\n",
              "      <th></th>\n",
              "      <th>SSC Score</th>\n",
              "      <th>HSC score</th>\n",
              "      <th>Cgpa</th>\n",
              "      <th>no_of_miniprojects</th>\n",
              "      <th>no_of_projects</th>\n",
              "      <th>memory capability score</th>\n",
              "    </tr>\n",
              "  </thead>\n",
              "  <tbody>\n",
              "    <tr>\n",
              "      <th>0</th>\n",
              "      <td>2</td>\n",
              "      <td>3</td>\n",
              "      <td>2</td>\n",
              "      <td>1</td>\n",
              "      <td>1</td>\n",
              "      <td>4</td>\n",
              "    </tr>\n",
              "    <tr>\n",
              "      <th>1</th>\n",
              "      <td>3</td>\n",
              "      <td>1</td>\n",
              "      <td>2</td>\n",
              "      <td>2</td>\n",
              "      <td>1</td>\n",
              "      <td>4</td>\n",
              "    </tr>\n",
              "    <tr>\n",
              "      <th>2</th>\n",
              "      <td>3</td>\n",
              "      <td>4</td>\n",
              "      <td>2</td>\n",
              "      <td>1</td>\n",
              "      <td>1</td>\n",
              "      <td>2</td>\n",
              "    </tr>\n",
              "    <tr>\n",
              "      <th>3</th>\n",
              "      <td>3</td>\n",
              "      <td>4</td>\n",
              "      <td>2</td>\n",
              "      <td>1</td>\n",
              "      <td>1</td>\n",
              "      <td>4</td>\n",
              "    </tr>\n",
              "    <tr>\n",
              "      <th>4</th>\n",
              "      <td>2</td>\n",
              "      <td>3</td>\n",
              "      <td>2</td>\n",
              "      <td>1</td>\n",
              "      <td>1</td>\n",
              "      <td>4</td>\n",
              "    </tr>\n",
              "  </tbody>\n",
              "</table>\n",
              "</div>"
            ],
            "text/plain": [
              "   SSC Score  HSC score  ...  no_of_projects  memory capability score\n",
              "0          2          3  ...               1                        4\n",
              "1          3          1  ...               1                        4\n",
              "2          3          4  ...               1                        2\n",
              "3          3          4  ...               1                        4\n",
              "4          2          3  ...               1                        4\n",
              "\n",
              "[5 rows x 6 columns]"
            ]
          },
          "metadata": {},
          "execution_count": 57
        }
      ]
    },
    {
      "cell_type": "code",
      "metadata": {
        "id": "wqT54faPbI6a"
      },
      "source": [
        "from sklearn.model_selection import train_test_split\n",
        "X_train, X_test, y_train, y_test = train_test_split(X, Y, test_size = 1/3, random_state = 0)"
      ],
      "execution_count": null,
      "outputs": []
    },
    {
      "cell_type": "code",
      "metadata": {
        "colab": {
          "base_uri": "https://localhost:8080/"
        },
        "id": "e8Vnw-9PbLY7",
        "outputId": "4a34b48e-3356-4f7f-aee2-cd7c1fa20bae"
      },
      "source": [
        "X_test.shape"
      ],
      "execution_count": null,
      "outputs": [
        {
          "output_type": "execute_result",
          "data": {
            "text/plain": [
              "(2509, 8)"
            ]
          },
          "metadata": {},
          "execution_count": 59
        }
      ]
    },
    {
      "cell_type": "code",
      "metadata": {
        "colab": {
          "base_uri": "https://localhost:8080/"
        },
        "id": "2Z5a2uYzbMNp",
        "outputId": "e1924633-f4b6-4bd0-ec99-a7fa55e35d28"
      },
      "source": [
        "X_train.shape\n",
        "y_test.shape"
      ],
      "execution_count": null,
      "outputs": [
        {
          "output_type": "execute_result",
          "data": {
            "text/plain": [
              "(2509, 6)"
            ]
          },
          "metadata": {},
          "execution_count": 60
        }
      ]
    },
    {
      "cell_type": "code",
      "metadata": {
        "colab": {
          "base_uri": "https://localhost:8080/"
        },
        "id": "3PhG4kEbbN5R",
        "outputId": "6282c21a-683c-4832-d3b4-86dd3aa87b30"
      },
      "source": [
        "X.isnull().sum()"
      ],
      "execution_count": null,
      "outputs": [
        {
          "output_type": "execute_result",
          "data": {
            "text/plain": [
              "coresub_skill                 0\n",
              "aptitude_skill                0\n",
              "problemsolving_skill          0\n",
              "abstractthink_skill           0\n",
              "design_skill                  0\n",
              "reading and writing skills    0\n",
              "Coding_Skills                 0\n",
              "Technical_Skills              0\n",
              "dtype: int64"
            ]
          },
          "metadata": {},
          "execution_count": 61
        }
      ]
    },
    {
      "cell_type": "code",
      "metadata": {
        "colab": {
          "base_uri": "https://localhost:8080/"
        },
        "id": "cKFw8e3nbSiN",
        "outputId": "9255debf-d07c-410c-a749-041e8e751cce"
      },
      "source": [
        "Y.isnull().sum()"
      ],
      "execution_count": null,
      "outputs": [
        {
          "output_type": "execute_result",
          "data": {
            "text/plain": [
              "SSC Score                  0\n",
              "HSC score                  0\n",
              "Cgpa                       0\n",
              "no_of_miniprojects         0\n",
              "no_of_projects             0\n",
              "memory capability score    0\n",
              "dtype: int64"
            ]
          },
          "metadata": {},
          "execution_count": 62
        }
      ]
    },
    {
      "cell_type": "code",
      "metadata": {
        "id": "zNo5oHASbWR_",
        "colab": {
          "base_uri": "https://localhost:8080/"
        },
        "outputId": "9f8efcc6-7863-4f62-db1f-21b1383231b9"
      },
      "source": [
        "y_train.shape"
      ],
      "execution_count": null,
      "outputs": [
        {
          "output_type": "execute_result",
          "data": {
            "text/plain": [
              "(5016, 6)"
            ]
          },
          "metadata": {},
          "execution_count": 63
        }
      ]
    },
    {
      "cell_type": "code",
      "metadata": {
        "id": "3U2uIawqbeXV"
      },
      "source": [
        "X=X.dropna()"
      ],
      "execution_count": null,
      "outputs": []
    },
    {
      "cell_type": "code",
      "metadata": {
        "id": "YenuL7w6bf4i"
      },
      "source": [
        "Y=Y.dropna()"
      ],
      "execution_count": null,
      "outputs": []
    },
    {
      "cell_type": "markdown",
      "metadata": {
        "id": "jWAz1FiDcvSB"
      },
      "source": [
        "LINEAR REGRESSION"
      ]
    },
    {
      "cell_type": "code",
      "metadata": {
        "id": "ydlMKhANbil0"
      },
      "source": [
        "from sklearn.linear_model import LinearRegression\n",
        "regressor = LinearRegression()\n",
        "regressor.fit(X_train, y_train)\n",
        "\n",
        "# Predicting the Test set results\n",
        "y_pred = regressor.predict(X_test)"
      ],
      "execution_count": null,
      "outputs": []
    },
    {
      "cell_type": "code",
      "metadata": {
        "colab": {
          "base_uri": "https://localhost:8080/"
        },
        "id": "CFT_Vs-ibjN6",
        "outputId": "da311e15-7177-4c77-d365-bc7f8a616e7d"
      },
      "source": [
        "from sklearn import metrics\n",
        "print('Mean Absolute Error:',metrics.mean_absolute_error(y_test,y_pred))"
      ],
      "execution_count": null,
      "outputs": [
        {
          "output_type": "stream",
          "name": "stdout",
          "text": [
            "Mean Absolute Error: 0.5916923976895312\n"
          ]
        }
      ]
    },
    {
      "cell_type": "code",
      "metadata": {
        "colab": {
          "base_uri": "https://localhost:8080/"
        },
        "id": "yeBCQxT7bl2o",
        "outputId": "b397f3fa-ca61-442e-97d7-b7263e205e26"
      },
      "source": [
        "print('Mean Squared Error',metrics.mean_squared_error(y_test,y_pred))"
      ],
      "execution_count": null,
      "outputs": [
        {
          "output_type": "stream",
          "name": "stdout",
          "text": [
            "Mean Squared Error 0.6171038700266747\n"
          ]
        }
      ]
    },
    {
      "cell_type": "code",
      "metadata": {
        "colab": {
          "base_uri": "https://localhost:8080/"
        },
        "id": "fb7ITsGobn54",
        "outputId": "71e2fde7-d2ac-46c3-ca08-f1ff87ae1e05"
      },
      "source": [
        "print('RMSE:',np.sqrt(metrics.mean_squared_error(y_test,y_pred)))"
      ],
      "execution_count": null,
      "outputs": [
        {
          "output_type": "stream",
          "name": "stdout",
          "text": [
            "RMSE: 0.7855595903727958\n"
          ]
        }
      ]
    },
    {
      "cell_type": "markdown",
      "metadata": {
        "id": "7bAadWtWbo4k"
      },
      "source": [
        "Random Forest Regressor"
      ]
    },
    {
      "cell_type": "code",
      "metadata": {
        "id": "NNyEC8_sbs0V"
      },
      "source": [
        "from sklearn.ensemble import RandomForestRegressor\n",
        "from sklearn.metrics import accuracy_score\n",
        "from sklearn.metrics import confusion_matrix"
      ],
      "execution_count": null,
      "outputs": []
    },
    {
      "cell_type": "code",
      "metadata": {
        "colab": {
          "base_uri": "https://localhost:8080/"
        },
        "id": "QERw_WbebveH",
        "outputId": "e3d8412e-46e5-4744-f49e-d46f62eba406"
      },
      "source": [
        "clf = RandomForestRegressor(n_estimators = 30, random_state = 10)\n",
        "\n",
        "clf.fit(X_train, y_train)\n"
      ],
      "execution_count": null,
      "outputs": [
        {
          "output_type": "execute_result",
          "data": {
            "text/plain": [
              "RandomForestRegressor(n_estimators=3000, random_state=10)"
            ]
          },
          "metadata": {},
          "execution_count": 71
        }
      ]
    },
    {
      "cell_type": "code",
      "metadata": {
        "id": "GhGl_jK-bxbg"
      },
      "source": [
        "y_pred_rf = clf.predict(X_test)"
      ],
      "execution_count": null,
      "outputs": []
    },
    {
      "cell_type": "code",
      "metadata": {
        "colab": {
          "base_uri": "https://localhost:8080/"
        },
        "id": "eqvOgAkxb0_b",
        "outputId": "feac555b-b4fe-498f-fb12-060d2b3cd2f2"
      },
      "source": [
        "from sklearn import metrics\n",
        "print('Mean Absolute Error:',metrics.mean_absolute_error(y_test,y_pred_rf))"
      ],
      "execution_count": null,
      "outputs": [
        {
          "output_type": "stream",
          "name": "stdout",
          "text": [
            "Mean Absolute Error: 0.6359884042073709\n"
          ]
        }
      ]
    },
    {
      "cell_type": "code",
      "metadata": {
        "colab": {
          "base_uri": "https://localhost:8080/"
        },
        "id": "li5VuIN-b3I1",
        "outputId": "4154486e-5125-4cd8-d15c-5ae5d20c9973"
      },
      "source": [
        "print('Mean Squared Error',metrics.mean_squared_error(y_test,y_pred_rf))"
      ],
      "execution_count": null,
      "outputs": [
        {
          "output_type": "stream",
          "name": "stdout",
          "text": [
            "Mean Squared Error 0.7416635965121885\n"
          ]
        }
      ]
    },
    {
      "cell_type": "code",
      "metadata": {
        "colab": {
          "base_uri": "https://localhost:8080/"
        },
        "id": "DLL1Rr25b5AC",
        "outputId": "85b3454b-4480-4857-b57b-44d4031d4a72"
      },
      "source": [
        "print('RMSE:',np.sqrt(metrics.mean_squared_error(y_test,y_pred_rf)))"
      ],
      "execution_count": null,
      "outputs": [
        {
          "output_type": "stream",
          "name": "stdout",
          "text": [
            "RMSE: 0.8611989296975401\n"
          ]
        }
      ]
    },
    {
      "cell_type": "markdown",
      "metadata": {
        "id": "Y3nnTjcBb7Mv"
      },
      "source": [
        "DECISION TREE REGRESSOR"
      ]
    },
    {
      "cell_type": "code",
      "metadata": {
        "id": "cn6UM6tVb-TT"
      },
      "source": [
        "from sklearn.tree import DecisionTreeRegressor\n",
        "from sklearn.metrics import accuracy_score\n",
        "from sklearn.metrics import confusion_matrix"
      ],
      "execution_count": null,
      "outputs": []
    },
    {
      "cell_type": "code",
      "metadata": {
        "colab": {
          "base_uri": "https://localhost:8080/"
        },
        "id": "wQ4dB2-0cAgY",
        "outputId": "20bbde7d-a937-4a2c-ae10-b14c29ff82eb"
      },
      "source": [
        "dt=DecisionTreeRegressor()\n",
        "dt.fit(X_train, y_train)"
      ],
      "execution_count": null,
      "outputs": [
        {
          "output_type": "execute_result",
          "data": {
            "text/plain": [
              "DecisionTreeRegressor()"
            ]
          },
          "metadata": {},
          "execution_count": 77
        }
      ]
    },
    {
      "cell_type": "code",
      "metadata": {
        "id": "r3KIjm6FcCLq"
      },
      "source": [
        "y_pred_dt=dt.predict(X_test)"
      ],
      "execution_count": null,
      "outputs": []
    },
    {
      "cell_type": "code",
      "metadata": {
        "id": "YIOqlzXMcFfq",
        "colab": {
          "base_uri": "https://localhost:8080/"
        },
        "outputId": "494fbe3b-1c1d-45df-b934-19152e732af7"
      },
      "source": [
        "from sklearn import metrics\n",
        "print('Mean Absolute Error:',metrics.mean_absolute_error(y_test,y_pred_dt))"
      ],
      "execution_count": null,
      "outputs": [
        {
          "output_type": "stream",
          "name": "stdout",
          "text": [
            "Mean Absolute Error: 0.694882226391733\n"
          ]
        }
      ]
    },
    {
      "cell_type": "code",
      "metadata": {
        "colab": {
          "base_uri": "https://localhost:8080/"
        },
        "id": "l80Kixr7cHXv",
        "outputId": "04d56ce2-cf22-47ce-877f-995e66eeef78"
      },
      "source": [
        "print('Mean Squared Error',metrics.mean_squared_error(y_test,y_pred_dt))"
      ],
      "execution_count": null,
      "outputs": [
        {
          "output_type": "stream",
          "name": "stdout",
          "text": [
            "Mean Squared Error 1.0305379206717076\n"
          ]
        }
      ]
    },
    {
      "cell_type": "code",
      "metadata": {
        "colab": {
          "base_uri": "https://localhost:8080/"
        },
        "id": "EqIeDY8lcIMT",
        "outputId": "bf7b935a-20ef-49a6-f453-6ac1703a31bf"
      },
      "source": [
        "print('RMSE:',np.sqrt(metrics.mean_squared_error(y_test,y_pred_dt)))"
      ],
      "execution_count": null,
      "outputs": [
        {
          "output_type": "stream",
          "name": "stdout",
          "text": [
            "RMSE: 1.015154136410677\n"
          ]
        }
      ]
    },
    {
      "cell_type": "markdown",
      "metadata": {
        "id": "4t7eguwB9RMX"
      },
      "source": [
        "#*Prediction*"
      ]
    },
    {
      "cell_type": "code",
      "metadata": {
        "id": "FwKqQM4De0l6"
      },
      "source": [
        "import pandas as pd\n",
        "import numpy as np\n",
        "from sklearn.preprocessing import LabelEncoder, OneHotEncoder\n",
        "from pandas import read_csv\n",
        "from sklearn.model_selection import train_test_split\n",
        "from sklearn.preprocessing import LabelEncoder\n",
        "from sklearn.preprocessing import OrdinalEncoder\n",
        "from sklearn.feature_selection import SelectKBest\n",
        "from sklearn.feature_selection import chi2\n",
        "from matplotlib import pyplot\n",
        "from sklearn.feature_selection import mutual_info_classif\n",
        "from sklearn import svm\n"
      ],
      "execution_count": null,
      "outputs": []
    },
    {
      "cell_type": "code",
      "metadata": {
        "colab": {
          "base_uri": "https://localhost:8080/",
          "height": 382
        },
        "id": "HhLH4iMwgB-z",
        "outputId": "467ecef6-56d4-4453-a790-184982e09564"
      },
      "source": [
        "dataset = pd.read_csv(\"https://raw.githubusercontent.com/abhiskp/Machine-Learning---A-Case-Study/main/career_compute_dataset.csv\")\n",
        "dataset.head()"
      ],
      "execution_count": null,
      "outputs": [
        {
          "output_type": "execute_result",
          "data": {
            "text/html": [
              "<div>\n",
              "<style scoped>\n",
              "    .dataframe tbody tr th:only-of-type {\n",
              "        vertical-align: middle;\n",
              "    }\n",
              "\n",
              "    .dataframe tbody tr th {\n",
              "        vertical-align: top;\n",
              "    }\n",
              "\n",
              "    .dataframe thead th {\n",
              "        text-align: right;\n",
              "    }\n",
              "</style>\n",
              "<table border=\"1\" class=\"dataframe\">\n",
              "  <thead>\n",
              "    <tr style=\"text-align: right;\">\n",
              "      <th></th>\n",
              "      <th>SSC Score</th>\n",
              "      <th>HSC score</th>\n",
              "      <th>Cgpa</th>\n",
              "      <th>school_Rank</th>\n",
              "      <th>no_of_miniprojects</th>\n",
              "      <th>no_of_projects</th>\n",
              "      <th>coresub_skill</th>\n",
              "      <th>aptitude_skill</th>\n",
              "      <th>problemsolving_skill</th>\n",
              "      <th>programming_skill</th>\n",
              "      <th>abstractthink_skill</th>\n",
              "      <th>design_skill</th>\n",
              "      <th>self-learning capability?</th>\n",
              "      <th>reading and writing skills</th>\n",
              "      <th>memory capability score</th>\n",
              "      <th>Coding_Skills</th>\n",
              "      <th>technology_used</th>\n",
              "      <th>sympos_attend</th>\n",
              "      <th>sympos_won</th>\n",
              "      <th>extracurricular</th>\n",
              "      <th>learning_style</th>\n",
              "      <th>Type of company want to settle in?</th>\n",
              "      <th>clg_teachers_know</th>\n",
              "      <th>college_performence</th>\n",
              "      <th>Technical_Skills</th>\n",
              "      <th>ROLE</th>\n",
              "    </tr>\n",
              "  </thead>\n",
              "  <tbody>\n",
              "    <tr>\n",
              "      <th>0</th>\n",
              "      <td>2</td>\n",
              "      <td>3</td>\n",
              "      <td>2</td>\n",
              "      <td>3</td>\n",
              "      <td>1</td>\n",
              "      <td>1</td>\n",
              "      <td>1</td>\n",
              "      <td>1</td>\n",
              "      <td>2</td>\n",
              "      <td>4</td>\n",
              "      <td>2</td>\n",
              "      <td>2</td>\n",
              "      <td>2</td>\n",
              "      <td>3</td>\n",
              "      <td>4</td>\n",
              "      <td>1</td>\n",
              "      <td>1</td>\n",
              "      <td>3</td>\n",
              "      <td>1</td>\n",
              "      <td>2</td>\n",
              "      <td>2</td>\n",
              "      <td>4</td>\n",
              "      <td>3</td>\n",
              "      <td>4</td>\n",
              "      <td>5</td>\n",
              "      <td>Technical Support</td>\n",
              "    </tr>\n",
              "    <tr>\n",
              "      <th>1</th>\n",
              "      <td>3</td>\n",
              "      <td>1</td>\n",
              "      <td>2</td>\n",
              "      <td>2</td>\n",
              "      <td>2</td>\n",
              "      <td>1</td>\n",
              "      <td>1</td>\n",
              "      <td>3</td>\n",
              "      <td>2</td>\n",
              "      <td>4</td>\n",
              "      <td>3</td>\n",
              "      <td>3</td>\n",
              "      <td>1</td>\n",
              "      <td>3</td>\n",
              "      <td>4</td>\n",
              "      <td>2</td>\n",
              "      <td>2</td>\n",
              "      <td>3</td>\n",
              "      <td>2</td>\n",
              "      <td>3</td>\n",
              "      <td>2</td>\n",
              "      <td>5</td>\n",
              "      <td>3</td>\n",
              "      <td>3</td>\n",
              "      <td>4</td>\n",
              "      <td>Software Developer</td>\n",
              "    </tr>\n",
              "    <tr>\n",
              "      <th>2</th>\n",
              "      <td>3</td>\n",
              "      <td>4</td>\n",
              "      <td>2</td>\n",
              "      <td>2</td>\n",
              "      <td>1</td>\n",
              "      <td>1</td>\n",
              "      <td>1</td>\n",
              "      <td>2</td>\n",
              "      <td>3</td>\n",
              "      <td>3</td>\n",
              "      <td>2</td>\n",
              "      <td>3</td>\n",
              "      <td>2</td>\n",
              "      <td>2</td>\n",
              "      <td>2</td>\n",
              "      <td>1</td>\n",
              "      <td>1</td>\n",
              "      <td>4</td>\n",
              "      <td>3</td>\n",
              "      <td>1</td>\n",
              "      <td>4</td>\n",
              "      <td>3</td>\n",
              "      <td>3</td>\n",
              "      <td>3</td>\n",
              "      <td>4</td>\n",
              "      <td>UI/UX Designer</td>\n",
              "    </tr>\n",
              "    <tr>\n",
              "      <th>3</th>\n",
              "      <td>3</td>\n",
              "      <td>4</td>\n",
              "      <td>2</td>\n",
              "      <td>1</td>\n",
              "      <td>1</td>\n",
              "      <td>1</td>\n",
              "      <td>1</td>\n",
              "      <td>1</td>\n",
              "      <td>3</td>\n",
              "      <td>2</td>\n",
              "      <td>2</td>\n",
              "      <td>2</td>\n",
              "      <td>2</td>\n",
              "      <td>3</td>\n",
              "      <td>4</td>\n",
              "      <td>2</td>\n",
              "      <td>1</td>\n",
              "      <td>3</td>\n",
              "      <td>2</td>\n",
              "      <td>1</td>\n",
              "      <td>2</td>\n",
              "      <td>1</td>\n",
              "      <td>4</td>\n",
              "      <td>4</td>\n",
              "      <td>3</td>\n",
              "      <td>Technical Support</td>\n",
              "    </tr>\n",
              "    <tr>\n",
              "      <th>4</th>\n",
              "      <td>2</td>\n",
              "      <td>3</td>\n",
              "      <td>2</td>\n",
              "      <td>4</td>\n",
              "      <td>1</td>\n",
              "      <td>1</td>\n",
              "      <td>1</td>\n",
              "      <td>4</td>\n",
              "      <td>3</td>\n",
              "      <td>3</td>\n",
              "      <td>2</td>\n",
              "      <td>3</td>\n",
              "      <td>2</td>\n",
              "      <td>4</td>\n",
              "      <td>4</td>\n",
              "      <td>2</td>\n",
              "      <td>1</td>\n",
              "      <td>2</td>\n",
              "      <td>1</td>\n",
              "      <td>3</td>\n",
              "      <td>1</td>\n",
              "      <td>5</td>\n",
              "      <td>4</td>\n",
              "      <td>3</td>\n",
              "      <td>1</td>\n",
              "      <td>Data Analyst</td>\n",
              "    </tr>\n",
              "  </tbody>\n",
              "</table>\n",
              "</div>"
            ],
            "text/plain": [
              "   SSC Score  HSC score  ...  Technical_Skills                ROLE\n",
              "0          2          3  ...                 5   Technical Support\n",
              "1          3          1  ...                 4  Software Developer\n",
              "2          3          4  ...                 4      UI/UX Designer\n",
              "3          3          4  ...                 3   Technical Support\n",
              "4          2          3  ...                 1        Data Analyst\n",
              "\n",
              "[5 rows x 26 columns]"
            ]
          },
          "metadata": {},
          "execution_count": 25
        }
      ]
    },
    {
      "cell_type": "code",
      "metadata": {
        "colab": {
          "base_uri": "https://localhost:8080/"
        },
        "id": "ApJnFDS_h_T-",
        "outputId": "557ab7f3-74de-4ebc-d8c9-6b0671464a66"
      },
      "source": [
        "\n",
        "np.shape(dataset)"
      ],
      "execution_count": null,
      "outputs": [
        {
          "output_type": "execute_result",
          "data": {
            "text/plain": [
              "(7525, 26)"
            ]
          },
          "metadata": {},
          "execution_count": 26
        }
      ]
    },
    {
      "cell_type": "code",
      "metadata": {
        "colab": {
          "base_uri": "https://localhost:8080/"
        },
        "id": "AsK_9uW-iIVJ",
        "outputId": "73d37165-5f28-46aa-ceec-20b6357246a3"
      },
      "source": [
        "data = dataset.iloc[:49,:-1].values\n",
        "label = dataset.iloc[:49,-1]\n",
        "#-------------------------------Label Encoding--------------------------#\n",
        "labelencoder = LabelEncoder()\n",
        "df = dataset\n",
        "label = df.iloc[:49,-1]\n",
        "original=label.unique() \n",
        "label=label.values\n",
        "label2 = labelencoder.fit_transform(label)\n",
        "y=pd.DataFrame(label2,columns=[\"ROLE\"])\n",
        "numeric=y[\"ROLE\"].unique() \n",
        "y1 = pd.DataFrame({'ROLE':original, 'Associated Number':numeric})\n",
        "print(y1)\n",
        "\n",
        "labelencoder = LabelEncoder()\n",
        "label = labelencoder.fit_transform(label)\n",
        "y=pd.DataFrame(label,columns=[\"role\"])\n",
        "X = pd.DataFrame(data,columns=['sslc','hsc','cgpa','school_type','no_of_miniprojects','no_of_projects',\n",
        "                                'coresub_skill','aptitude_skill','problemsolving_skill','programming_skill','abstractthink_skill',\n",
        "                                'design_skill','first_computer','first_program','lab_programs','ds_coding','technology_used',\n",
        "                                'sympos_attend','sympos_won','extracurricular','learning_style','college_bench','clg_teachers_know','college_performence','college_skills'])"
      ],
      "execution_count": null,
      "outputs": [
        {
          "output_type": "stream",
          "name": "stdout",
          "text": [
            "                 ROLE  Associated Number\n",
            "0   Technical Support                  4\n",
            "1  Software Developer                  2\n",
            "2      UI/UX Designer                  6\n",
            "3        Data Analyst                  1\n",
            "4    Technical Writer                  5\n",
            "5       Web Developer                  7\n",
            "6     Software Tester                  3\n",
            "7    Business Analyst                  0\n"
          ]
        }
      ]
    },
    {
      "cell_type": "code",
      "metadata": {
        "id": "nxWYwEEyiqSA"
      },
      "source": [
        ""
      ],
      "execution_count": null,
      "outputs": []
    },
    {
      "cell_type": "markdown",
      "metadata": {
        "id": "1QhX7e0Yiyqu"
      },
      "source": [
        "**FEATURE SELECTION**\n",
        "\n",
        " For Feature Selection :\n",
        "\n",
        "1.   Chi-Squared Statistic \n",
        "2.   Mutual Information Statstic\n",
        "\n",
        "\n",
        "    "
      ]
    },
    {
      "cell_type": "code",
      "metadata": {
        "id": "Wbr28BZ7lpLm"
      },
      "source": [
        "from sklearn.model_selection import train_test_split  #to avoid overfitting\n",
        "from sklearn.preprocessing import LabelEncoder\n",
        "from sklearn.preprocessing import OrdinalEncoder\n",
        "from sklearn.feature_selection import SelectKBest\n",
        "from sklearn.feature_selection import chi2\n",
        "from matplotlib import pyplot"
      ],
      "execution_count": null,
      "outputs": []
    },
    {
      "cell_type": "code",
      "metadata": {
        "id": "qvWoRLF9jC9X",
        "colab": {
          "base_uri": "https://localhost:8080/",
          "height": 1000
        },
        "outputId": "8956564f-27a1-4b4a-fa72-e4c7f7f4e979"
      },
      "source": [
        "# feature selection\n",
        "# example of chi squared feature selection for categorical data\n",
        "def select_features(X_train, y_train, X_test):\n",
        "\tfs = SelectKBest(score_func=chi2, k='all')\n",
        "\tfs.fit(X_train, y_train)\n",
        "\tX_train_fs = fs.transform(X_train)\n",
        "\tX_test_fs = fs.transform(X_test)\n",
        "\treturn X_train_fs, X_test_fs, fs\n",
        "\n",
        "# split into train and test sets\n",
        "X_train, X_test, y_train, y_test = train_test_split(X, y, test_size=0.2, random_state=20)#Decision tree\n",
        "X_train2,X_test2,y_train2,y_test2=train_test_split(X,y,test_size=0.3,random_state=10)\n",
        "X_train6,X_test6,y_train6,y_test6=train_test_split(X,y,test_size=0.2,random_state=15)#SVM\n",
        "\n",
        "X_train1, X_test1, fs1 = select_features(X_train, y_train, X_test)\n",
        "X_train3, X_test3, fs3 = select_features(X_train2, y_train2, X_test2)\n",
        "X_train5, X_test5, fs5 = select_features(X_train2, y_train2, X_test2)\n",
        "\n",
        "\n",
        "# what are scores for the features\n",
        "for i in range(len(fs1.scores_)):\n",
        "\tprint('Feature %d: %f' % (i, fs1.scores_[i]))\n",
        "# plot the scores\n",
        "pyplot.bar([i for i in range(len(fs1.scores_))], fs1.scores_)\n",
        "pyplot.show()\n",
        "\n",
        "count = 0\n",
        "for i in fs1.scores_ : \n",
        "    if i > 1 : \n",
        "        count = count + 1\n",
        "k1=count\n",
        "print(\" The number of important features with threshold as 1 :{} \".format(k1))\n",
        "\n",
        "fs1.scores_.sort()\n",
        "\n",
        "\n",
        "\n",
        "\n",
        "\n",
        "for i in range(len(fs3.scores_)):\n",
        "\tprint('Feature %d: %f' % (i, fs3.scores_[i]))\n",
        "# plot the scores\n",
        "pyplot.bar([i for i in range(len(fs3.scores_))], fs3.scores_)\n",
        "pyplot.show()\n",
        "\n",
        "\n",
        "count = 0\n",
        "for i in fs3.scores_ : \n",
        "    if i > 1 : \n",
        "        count = count + 1\n",
        "k3=count\n",
        "\n",
        "print(\" The number of important features with threshold as 1 :{} \".format(k3))\n",
        "\n",
        "\n",
        "\n",
        "\n",
        "\n",
        "for i in range(len(fs5.scores_)):\n",
        "\tprint('Feature %d: %f' % (i, fs5.scores_[i]))\n",
        "# plot the scores\n",
        "pyplot.bar([i for i in range(len(fs5.scores_))], fs5.scores_)\n",
        "pyplot.show()\n",
        "\n",
        "count = 0\n",
        "for i in fs5.scores_ : \n",
        "    if i > 1 : \n",
        "        count = count + 1\n",
        "k5=count\n",
        "\n",
        "print(\" The number of important features with threshold as 1 : {}\" .format(k5))"
      ],
      "execution_count": null,
      "outputs": [
        {
          "output_type": "stream",
          "name": "stdout",
          "text": [
            "Feature 0: 2.101772\n",
            "Feature 1: 0.955491\n",
            "Feature 2: 1.599306\n",
            "Feature 3: 1.769333\n",
            "Feature 4: 3.316358\n",
            "Feature 5: 1.125758\n",
            "Feature 6: 1.299609\n",
            "Feature 7: 6.225678\n",
            "Feature 8: 1.013542\n",
            "Feature 9: 1.529464\n",
            "Feature 10: 6.433067\n",
            "Feature 11: 3.607745\n",
            "Feature 12: 0.611667\n",
            "Feature 13: 1.566959\n",
            "Feature 14: 0.907095\n",
            "Feature 15: 4.838542\n",
            "Feature 16: 1.000189\n",
            "Feature 17: 2.309167\n",
            "Feature 18: 2.526337\n",
            "Feature 19: 3.994762\n",
            "Feature 20: 3.109337\n",
            "Feature 21: 0.519778\n",
            "Feature 22: 0.356387\n",
            "Feature 23: 0.116054\n",
            "Feature 24: 5.677100\n"
          ]
        },
        {
          "output_type": "display_data",
          "data": {
            "image/png": "[encoded data removed]",
            "text/plain": [
              "<Figure size 432x288 with 1 Axes>"
            ]
          },
          "metadata": {
            "needs_background": "light"
          }
        },
        {
          "output_type": "stream",
          "name": "stdout",
          "text": [
            " The number of important features with threshold as 1 :19 \n",
            "Feature 0: 2.647197\n",
            "Feature 1: 0.606646\n",
            "Feature 2: 0.987726\n",
            "Feature 3: 3.816667\n",
            "Feature 4: 2.366213\n",
            "Feature 5: 1.146154\n",
            "Feature 6: 1.424897\n",
            "Feature 7: 4.506504\n",
            "Feature 8: 1.653086\n",
            "Feature 9: 1.386111\n",
            "Feature 10: 3.688753\n",
            "Feature 11: 2.377637\n",
            "Feature 12: 1.653040\n",
            "Feature 13: 1.869637\n",
            "Feature 14: 0.573077\n",
            "Feature 15: 2.759781\n",
            "Feature 16: 1.664387\n",
            "Feature 17: 2.188087\n",
            "Feature 18: 3.249751\n",
            "Feature 19: 4.095988\n",
            "Feature 20: 1.730137\n",
            "Feature 21: 0.844985\n",
            "Feature 22: 0.326944\n",
            "Feature 23: 0.498964\n",
            "Feature 24: 7.232533\n"
          ]
        },
        {
          "output_type": "display_data",
          "data": {
            "image/png": "[encoded data removed]",
            "text/plain": [
              "<Figure size 432x288 with 1 Axes>"
            ]
          },
          "metadata": {
            "needs_background": "light"
          }
        },
        {
          "output_type": "stream",
          "name": "stdout",
          "text": [
            " The number of important features with threshold as 1 :19 \n",
            "Feature 0: 2.647197\n",
            "Feature 1: 0.606646\n",
            "Feature 2: 0.987726\n",
            "Feature 3: 3.816667\n",
            "Feature 4: 2.366213\n",
            "Feature 5: 1.146154\n",
            "Feature 6: 1.424897\n",
            "Feature 7: 4.506504\n",
            "Feature 8: 1.653086\n",
            "Feature 9: 1.386111\n",
            "Feature 10: 3.688753\n",
            "Feature 11: 2.377637\n",
            "Feature 12: 1.653040\n",
            "Feature 13: 1.869637\n",
            "Feature 14: 0.573077\n",
            "Feature 15: 2.759781\n",
            "Feature 16: 1.664387\n",
            "Feature 17: 2.188087\n",
            "Feature 18: 3.249751\n",
            "Feature 19: 4.095988\n",
            "Feature 20: 1.730137\n",
            "Feature 21: 0.844985\n",
            "Feature 22: 0.326944\n",
            "Feature 23: 0.498964\n",
            "Feature 24: 7.232533\n"
          ]
        },
        {
          "output_type": "display_data",
          "data": {
            "image/png": "[encoded data removed]",
            "text/plain": [
              "<Figure size 432x288 with 1 Axes>"
            ]
          },
          "metadata": {
            "needs_background": "light"
          }
        },
        {
          "output_type": "stream",
          "name": "stdout",
          "text": [
            " The number of important features with threshold as 1 : 19\n"
          ]
        }
      ]
    },
    {
      "cell_type": "markdown",
      "metadata": {
        "id": "wb6W_uh1tBId"
      },
      "source": [
        "So, from above plot we remove the features with lower importance scores (<1.5).\n",
        "\n",
        "Hence features 2,5,8,9,14,16,21,22,23 are not considered,\n",
        "\n",
        "We could set k=16 i.e (25-9)  When configuring the SelectKBest to select these top 16 features"
      ]
    },
    {
      "cell_type": "code",
      "metadata": {
        "id": "K402fgrltGkv",
        "colab": {
          "base_uri": "https://localhost:8080/"
        },
        "outputId": "74eff40f-b803-4ad6-d0fa-27eebcab4a31"
      },
      "source": [
        "def select_features(X_train, y_train, X_test):\n",
        "\tfs = SelectKBest(score_func=chi2,k=k1)\n",
        "\tfs.fit(X_train, y_train)\n",
        "\tX_train_fs = fs.transform(X_train)\n",
        "\tX_test_fs = fs.transform(X_test)\n",
        "\treturn X_train_fs, X_test_fs, fs\n",
        "\n",
        "def select_features2(X_train, y_train, X_test):\n",
        "\tfs = SelectKBest(score_func=chi2,k=k3)\n",
        "\tfs.fit(X_train, y_train)\n",
        "\tX_train_fs = fs.transform(X_train)\n",
        "\tX_test_fs = fs.transform(X_test)\n",
        "\treturn X_train_fs, X_test_fs, fs\n",
        "\n",
        "def select_features3(X_train, y_train, X_test):\n",
        "\tfs = SelectKBest(score_func=chi2,k=k5)\n",
        "\tfs.fit(X_train, y_train)\n",
        "\tX_train_fs = fs.transform(X_train)\n",
        "\tX_test_fs = fs.transform(X_test)\n",
        "\treturn X_train_fs, X_test_fs, fs\n",
        "\n",
        "\n",
        "X_train1, X_test1, fs = select_features(X_train, y_train, X_test)\n",
        "X_train3, X_test3, fs = select_features2(X_train2, y_train2, X_test2)\n",
        "X_train5, X_test5, fs = select_features3(X_train6, y_train6, X_test6)\n",
        "\n",
        " \n",
        "#---------------SVM------------------#\n",
        "#\n",
        "print(\"Without feature Selection : \")\n",
        "acc = svm(X_train6,y_train6,X_test6,y_test6)\n",
        "\n",
        "print(\"With feature Selection : \")\n",
        "acc1 = svm(X_train5,y_train6,X_test5,y_test6)\n",
        "\n",
        "#-------------Decision Tree-----------------#\n",
        "print(\"Without feature Selection : \")\n",
        "acc1,clf1 = Dec_tree(X_train1,y_train,X_test1,y_test)\n",
        "\n",
        "\n",
        "print(\"With feature Selection : \")\n",
        "acc,clf = Dec_tree(X_train,y_train,X_test,y_test)\n",
        "\n",
        "print(' ')\n",
        "\n"
      ],
      "execution_count": null,
      "outputs": [
        {
          "output_type": "stream",
          "name": "stdout",
          "text": [
            "Without feature Selection : \n",
            "Model accuracy score with default hyperparameters: 60.0000\n",
            "With feature Selection : \n",
            "Model accuracy score with default hyperparameters: 70.0000\n",
            "Without feature Selection : \n",
            "Model accuracy score with Decision Tree 50.0\n",
            "With feature Selection : \n",
            "Model accuracy score with Decision Tree 50.0\n",
            " \n"
          ]
        },
        {
          "output_type": "stream",
          "name": "stderr",
          "text": [
            "/usr/local/lib/python3.7/dist-packages/sklearn/utils/validation.py:985: DataConversionWarning: A column-vector y was passed when a 1d array was expected. Please change the shape of y to (n_samples, ), for example using ravel().\n",
            "  y = column_or_1d(y, warn=True)\n",
            "/usr/local/lib/python3.7/dist-packages/sklearn/utils/validation.py:985: DataConversionWarning: A column-vector y was passed when a 1d array was expected. Please change the shape of y to (n_samples, ), for example using ravel().\n",
            "  y = column_or_1d(y, warn=True)\n"
          ]
        }
      ]
    },
    {
      "cell_type": "code",
      "metadata": {
        "colab": {
          "base_uri": "https://localhost:8080/",
          "height": 1000
        },
        "id": "C5wiQp10uFuu",
        "outputId": "8d1853c7-13da-4ee4-effd-88438f81e0ed"
      },
      "source": [
        "# feature selection\n",
        "# example of chi squared feature selection for categorical data\n",
        "def select_features(X_train, y_train, X_test):\n",
        "\tfs = SelectKBest(score_func=mutual_info_classif, k='all')\n",
        "\tfs.fit(X_train, y_train)\n",
        "\tX_train_fs = fs.transform(X_train)\n",
        "\tX_test_fs = fs.transform(X_test)\n",
        "\treturn X_train_fs, X_test_fs, fs\n",
        "\n",
        "# split into train and test sets\n",
        "X_train, X_test, y_train, y_test = train_test_split(X, y, test_size=0.2, random_state=20)#Decision tree\n",
        "X_train6,X_test6,y_train6,y_test6=train_test_split(X,y,test_size=0.2,random_state=15)#SVM\n",
        "\n",
        "X_train1, X_test1, fs1 = select_features(X_train, y_train, X_test)\n",
        "X_train3, X_test3, fs3 = select_features(X_train2, y_train2, X_test2)\n",
        "X_train5, X_test5, fs5 = select_features(X_train2, y_train2, X_test2)\n",
        "\n",
        "# what are scores for the features\n",
        "for i in range(len(fs1.scores_)):\n",
        "\tprint('Feature %d: %f' % (i, fs.scores_[i]))\n",
        "# plot the scores\n",
        "pyplot.bar([i for i in range(len(fs.scores_))], fs.scores_)\n",
        "pyplot.show()\n",
        "\n",
        "count = 0\n",
        "for i in fs.scores_ : \n",
        "    if i > 0.2 : \n",
        "        count = count + 1\n",
        "k1=count\n",
        "print(\" The number of important features with threshold as 0.2 :{} \".format(k1))\n",
        "\n",
        "\n",
        "for i in range(len(fs3.scores_)):\n",
        "\tprint('Feature %d: %f' % (i, fs3.scores_[i]))\n",
        "# plot the scores\n",
        "pyplot.bar([i for i in range(len(fs3.scores_))], fs3.scores_)\n",
        "pyplot.show()\n",
        "\n",
        "count = 0\n",
        "for i in fs3.scores_ : \n",
        "    if i > 0.2 : \n",
        "        count = count + 1\n",
        "k3=count\n",
        "\n",
        "print(\" The number of important features with threshold as 0.2 :{} \".format(k3))\n",
        "\n",
        "#X_train4, X_test4, fs = select_features(X_train2, y_train2, X_test2)\n",
        "for i in range(len(fs5.scores_)):\n",
        "\tprint('Feature %d: %f' % (i, fs5.scores_[i]))\n",
        "# plot the scores\n",
        "pyplot.bar([i for i in range(len(fs5.scores_))], fs5.scores_)\n",
        "pyplot.show()\n",
        "\n",
        "count = 0\n",
        "for i in fs5.scores_ : \n",
        "    if i > 0.2 : \n",
        "        count = count + 1\n",
        "k5=count\n",
        "\n",
        "print(\" The number of important features with threshold as 0.2 : {}\" .format(k5))"
      ],
      "execution_count": null,
      "outputs": [
        {
          "output_type": "stream",
          "name": "stderr",
          "text": [
            "/usr/local/lib/python3.7/dist-packages/sklearn/utils/validation.py:985: DataConversionWarning: A column-vector y was passed when a 1d array was expected. Please change the shape of y to (n_samples, ), for example using ravel().\n",
            "  y = column_or_1d(y, warn=True)\n",
            "/usr/local/lib/python3.7/dist-packages/sklearn/utils/validation.py:985: DataConversionWarning: A column-vector y was passed when a 1d array was expected. Please change the shape of y to (n_samples, ), for example using ravel().\n",
            "  y = column_or_1d(y, warn=True)\n",
            "/usr/local/lib/python3.7/dist-packages/sklearn/utils/validation.py:985: DataConversionWarning: A column-vector y was passed when a 1d array was expected. Please change the shape of y to (n_samples, ), for example using ravel().\n",
            "  y = column_or_1d(y, warn=True)\n"
          ]
        },
        {
          "output_type": "stream",
          "name": "stdout",
          "text": [
            "Feature 0: 1.939425\n",
            "Feature 1: 0.621032\n",
            "Feature 2: 1.190205\n",
            "Feature 3: 2.361067\n",
            "Feature 4: 2.723434\n",
            "Feature 5: 1.019886\n",
            "Feature 6: 1.630621\n",
            "Feature 7: 5.962755\n",
            "Feature 8: 0.948673\n",
            "Feature 9: 1.391667\n",
            "Feature 10: 3.995109\n",
            "Feature 11: 3.001412\n",
            "Feature 12: 1.301361\n",
            "Feature 13: 1.730517\n",
            "Feature 14: 0.916034\n",
            "Feature 15: 2.627847\n",
            "Feature 16: 0.703328\n",
            "Feature 17: 2.405423\n",
            "Feature 18: 3.379566\n",
            "Feature 19: 3.567291\n",
            "Feature 20: 2.512279\n",
            "Feature 21: 1.074299\n",
            "Feature 22: 0.271954\n",
            "Feature 23: 0.452889\n",
            "Feature 24: 8.890845\n"
          ]
        },
        {
          "output_type": "display_data",
          "data": {
            "image/png": "[encoded data removed]",
            "text/plain": [
              "<Figure size 432x288 with 1 Axes>"
            ]
          },
          "metadata": {
            "needs_background": "light"
          }
        },
        {
          "output_type": "stream",
          "name": "stdout",
          "text": [
            " The number of important features with threshold as 0.2 :25 \n",
            "Feature 0: 0.207417\n",
            "Feature 1: 0.006580\n",
            "Feature 2: 0.223185\n",
            "Feature 3: 0.000000\n",
            "Feature 4: 0.803585\n",
            "Feature 5: 1.246487\n",
            "Feature 6: 0.921099\n",
            "Feature 7: 0.239759\n",
            "Feature 8: 0.000000\n",
            "Feature 9: 0.000000\n",
            "Feature 10: 0.290617\n",
            "Feature 11: 0.366229\n",
            "Feature 12: 0.605941\n",
            "Feature 13: 0.078829\n",
            "Feature 14: 1.435146\n",
            "Feature 15: 0.078621\n",
            "Feature 16: 1.218024\n",
            "Feature 17: 0.017366\n",
            "Feature 18: 0.072852\n",
            "Feature 19: 0.123105\n",
            "Feature 20: 0.258225\n",
            "Feature 21: 0.157860\n",
            "Feature 22: 0.425284\n",
            "Feature 23: 0.275533\n",
            "Feature 24: 0.207432\n"
          ]
        },
        {
          "output_type": "display_data",
          "data": {
            "image/png": "[encoded data removed]",
            "text/plain": [
              "<Figure size 432x288 with 1 Axes>"
            ]
          },
          "metadata": {
            "needs_background": "light"
          }
        },
        {
          "output_type": "stream",
          "name": "stdout",
          "text": [
            " The number of important features with threshold as 0.2 :15 \n",
            "Feature 0: 0.061610\n",
            "Feature 1: 0.000000\n",
            "Feature 2: 0.258912\n",
            "Feature 3: 0.007952\n",
            "Feature 4: 0.864749\n",
            "Feature 5: 1.411216\n",
            "Feature 6: 0.662062\n",
            "Feature 7: 0.200131\n",
            "Feature 8: 0.000000\n",
            "Feature 9: 0.000000\n",
            "Feature 10: 0.359816\n",
            "Feature 11: 0.277679\n",
            "Feature 12: 0.467492\n",
            "Feature 13: 0.311589\n",
            "Feature 14: 1.636927\n",
            "Feature 15: 0.009578\n",
            "Feature 16: 1.522832\n",
            "Feature 17: 0.531538\n",
            "Feature 18: 0.264838\n",
            "Feature 19: 0.081172\n",
            "Feature 20: 0.165119\n",
            "Feature 21: 0.362209\n",
            "Feature 22: 0.492693\n",
            "Feature 23: 0.456423\n",
            "Feature 24: 0.066031\n"
          ]
        },
        {
          "output_type": "display_data",
          "data": {
            "image/png": "[encoded data removed]",
            "text/plain": [
              "<Figure size 432x288 with 1 Axes>"
            ]
          },
          "metadata": {
            "needs_background": "light"
          }
        },
        {
          "output_type": "stream",
          "name": "stdout",
          "text": [
            " The number of important features with threshold as 0.2 : 16\n"
          ]
        }
      ]
    },
    {
      "cell_type": "code",
      "metadata": {
        "id": "oN-K9d49uPjG",
        "colab": {
          "base_uri": "https://localhost:8080/"
        },
        "outputId": "801d926a-431c-4d35-9a14-89c557737dbc"
      },
      "source": [
        "def select_features(X_train, y_train, X_test):\n",
        "\tfs = SelectKBest(score_func=mutual_info_classif,k=k1)\n",
        "\tfs.fit(X_train, y_train)\n",
        "\tX_train_fs = fs.transform(X_train)\n",
        "\tX_test_fs = fs.transform(X_test)\n",
        "\treturn X_train_fs, X_test_fs, fs\n",
        "\n",
        "def select_features2(X_train, y_train, X_test):\n",
        "\tfs = SelectKBest(score_func=mutual_info_classif,k=k3)\n",
        "\tfs.fit(X_train, y_train)\n",
        "\tX_train_fs = fs.transform(X_train)\n",
        "\tX_test_fs = fs.transform(X_test)\n",
        "\treturn X_train_fs, X_test_fs, fs\n",
        "\n",
        "def select_features3(X_train, y_train, X_test):\n",
        "\tfs = SelectKBest(score_func=mutual_info_classif,k=k5)\n",
        "\tfs.fit(X_train, y_train)\n",
        "\tX_train_fs = fs.transform(X_train)\n",
        "\tX_test_fs = fs.transform(X_test)\n",
        "\treturn X_train_fs, X_test_fs, fs\n",
        "\n",
        "\n",
        "X_train1, X_test1, fs = select_features(X_train, y_train, X_test)\n",
        "X_train3, X_test3, fs = select_features2(X_train2, y_train2, X_test2)\n",
        "X_train5, X_test5, fs = select_features3(X_train6, y_train6, X_test6)\n",
        "\n",
        " \n",
        "#---------------SVM------------------#\n",
        "#\n",
        "print(\"Without feature Selection : \")\n",
        "acc = svm(X_train6,y_train6,X_test6,y_test6)\n",
        "\n",
        "print(\"With feature Selection : \")\n",
        "acc1 = svm(X_train5,y_train6,X_test5,y_test6)\n",
        "\n",
        "#-------------Decision Tree-----------------#\n",
        "print(\"Without feature Selection : \")\n",
        "acc1,clf1 = Dec_tree(X_train1,y_train,X_test1,y_test)\n",
        "\n",
        "\n",
        "print(\"With feature Selection : \")\n",
        "acc,clf = Dec_tree(X_train,y_train,X_test,y_test)\n",
        "\n",
        "print(' ')\n"
      ],
      "execution_count": null,
      "outputs": [
        {
          "output_type": "stream",
          "name": "stderr",
          "text": [
            "/usr/local/lib/python3.7/dist-packages/sklearn/utils/validation.py:985: DataConversionWarning: A column-vector y was passed when a 1d array was expected. Please change the shape of y to (n_samples, ), for example using ravel().\n",
            "  y = column_or_1d(y, warn=True)\n",
            "/usr/local/lib/python3.7/dist-packages/sklearn/utils/validation.py:985: DataConversionWarning: A column-vector y was passed when a 1d array was expected. Please change the shape of y to (n_samples, ), for example using ravel().\n",
            "  y = column_or_1d(y, warn=True)\n"
          ]
        },
        {
          "output_type": "stream",
          "name": "stdout",
          "text": [
            "Without feature Selection : \n",
            "Model accuracy score with default hyperparameters: 60.0000\n",
            "With feature Selection : \n",
            "Model accuracy score with default hyperparameters: 70.0000\n",
            "Without feature Selection : \n",
            "Model accuracy score with Decision Tree 50.0\n",
            "With feature Selection : \n",
            "Model accuracy score with Decision Tree 30.0\n",
            " \n"
          ]
        },
        {
          "output_type": "stream",
          "name": "stderr",
          "text": [
            "/usr/local/lib/python3.7/dist-packages/sklearn/utils/validation.py:985: DataConversionWarning: A column-vector y was passed when a 1d array was expected. Please change the shape of y to (n_samples, ), for example using ravel().\n",
            "  y = column_or_1d(y, warn=True)\n",
            "/usr/local/lib/python3.7/dist-packages/sklearn/utils/validation.py:985: DataConversionWarning: A column-vector y was passed when a 1d array was expected. Please change the shape of y to (n_samples, ), for example using ravel().\n",
            "  y = column_or_1d(y, warn=True)\n",
            "/usr/local/lib/python3.7/dist-packages/sklearn/utils/validation.py:985: DataConversionWarning: A column-vector y was passed when a 1d array was expected. Please change the shape of y to (n_samples, ), for example using ravel().\n",
            "  y = column_or_1d(y, warn=True)\n"
          ]
        }
      ]
    },
    {
      "cell_type": "markdown",
      "metadata": {
        "id": "twy_aUjcT7J_"
      },
      "source": [
        "*SVM* *&*  *DECISION TREE*"
      ]
    },
    {
      "cell_type": "code",
      "metadata": {
        "id": "-eN5jqpfT4dy"
      },
      "source": [
        "#Support Vector machine\n",
        "from sklearn.metrics import confusion_matrix,accuracy_score\n",
        "from sklearn.svm import SVC\n",
        "from pandas import read_csv\n",
        "from sklearn.model_selection import train_test_split\n",
        "def svm(X_train,y_train,X_test,y_test):\n",
        "  \n",
        "  # import metrics to compute accuracy\n",
        "  from sklearn.metrics import accuracy_score\n",
        "  svc=SVC() \n",
        "  # fit classifier to training set\n",
        "  svc.fit(X_train,y_train)\n",
        "  # make predictions on test set\n",
        "  y_pred=svc.predict(X_test)\n",
        "  # compute and print accuracy score\n",
        "  print('Model accuracy score with default hyperparameters: {0:0.4f}'. format(accuracy_score(y_test, y_pred)*100))\n",
        "  return accuracy_score(y_test, y_pred)*100\n",
        "\n",
        "\n",
        "def Dec_tree(X_train,y_train,X_test,y_test):\n",
        "  from sklearn import tree\n",
        "  clf = tree.DecisionTreeClassifier()\n",
        "  clf = clf.fit(X_train, y_train)\n",
        "  # Prediction\n",
        "  y_pred = clf.predict(X_test)\n",
        "  y_test_arr=y_test['role']\n",
        "  from sklearn.metrics import confusion_matrix,accuracy_score\n",
        "  accuracy = accuracy_score(y_test,y_pred)\n",
        "  print('Model accuracy score with Decision Tree', accuracy_score(y_test, y_pred)*100)\n",
        "  return accuracy*100,clf\n",
        "\n"
      ],
      "execution_count": null,
      "outputs": []
    },
    {
      "cell_type": "code",
      "metadata": {
        "colab": {
          "base_uri": "https://localhost:8080/",
          "height": 497
        },
        "id": "2gd_RSlkuW0a",
        "outputId": "d1e52fce-720c-4b6a-ce9c-1ddb903baca7"
      },
      "source": [
        "import matplotlib.pyplot as plt\n",
        "#fig = plt.figure()\n",
        "fig = plt.figure(figsize =(20, 8)) \n",
        "#ax = fig.add_axes([0,0,1,1])\n",
        "Name = ['Decision Tree(with feature selection)','Decision Tree(without feature selection)', 'SVM(with feature selction)','SVM(without feature selction)']\n",
        "accuracies = [40,30,70,60]\n",
        "plt.bar(Name,accuracies)\n",
        "plt.ylabel('Accuracies')\n",
        "plt.xlabel('Techniques')\n",
        "plt.show()"
      ],
      "execution_count": null,
      "outputs": [
        {
          "output_type": "display_data",
          "data": {
            "image/png": "[encoded data removed]",
            "text/plain": [
              "<Figure size 1440x576 with 1 Axes>"
            ]
          },
          "metadata": {
            "needs_background": "light"
          }
        }
      ]
    },
    {
      "cell_type": "code",
      "metadata": {
        "colab": {
          "base_uri": "https://localhost:8080/"
        },
        "id": "CDZyWT5JujUW",
        "outputId": "e9722bfe-ce38-45e7-c9c3-5b61e5c872f6"
      },
      "source": [
        "\n",
        "# x_new = ['3','5','4','3','5','4','3','5','2','2','5','2','5','4','2','5','5','3','2','5','5','4','2','3','4']\n",
        "x_new = []\n",
        "feat = list(X.columns) \n",
        "for i in feat:\n",
        "  print(i)\n",
        "  val = input(\"Enter: \") \n",
        "  x_new.append(val)\n",
        "x_new"
      ],
      "execution_count": null,
      "outputs": [
        {
          "name": "stdout",
          "output_type": "stream",
          "text": [
            "sslc\n",
            "Enter: 3\n",
            "hsc\n",
            "Enter: 5\n",
            "cgpa\n",
            "Enter: 4\n",
            "school_type\n",
            "Enter: 3\n",
            "no_of_miniprojects\n",
            "Enter: 5\n",
            "no_of_projects\n",
            "Enter: 4\n",
            "coresub_skill\n",
            "Enter: 3\n",
            "aptitude_skill\n",
            "Enter: 5\n",
            "problemsolving_skill\n",
            "Enter: 2\n",
            "programming_skill\n",
            "Enter: 2\n",
            "abstractthink_skill\n",
            "Enter: 5\n",
            "design_skill\n",
            "Enter: 2\n",
            "first_computer\n",
            "Enter: 5\n",
            "first_program\n",
            "Enter: 4\n",
            "lab_programs\n",
            "Enter: 2\n",
            "ds_coding\n",
            "Enter: 5\n",
            "technology_used\n",
            "Enter: 5\n",
            "sympos_attend\n",
            "Enter: 3\n",
            "sympos_won\n",
            "Enter: 2\n",
            "extracurricular\n",
            "Enter: 5\n",
            "learning_style\n",
            "Enter: 5\n",
            "college_bench\n",
            "Enter: 4\n",
            "clg_teachers_know\n",
            "Enter: 2\n",
            "college_performence\n",
            "Enter: 3\n",
            "college_skills\n",
            "Enter: 4\n"
          ]
        },
        {
          "output_type": "execute_result",
          "data": {
            "text/plain": [
              "['3',\n",
              " '5',\n",
              " '4',\n",
              " '3',\n",
              " '5',\n",
              " '4',\n",
              " '3',\n",
              " '5',\n",
              " '2',\n",
              " '2',\n",
              " '5',\n",
              " '2',\n",
              " '5',\n",
              " '4',\n",
              " '2',\n",
              " '5',\n",
              " '5',\n",
              " '3',\n",
              " '2',\n",
              " '5',\n",
              " '5',\n",
              " '4',\n",
              " '2',\n",
              " '3',\n",
              " '4']"
            ]
          },
          "metadata": {},
          "execution_count": 38
        }
      ]
    },
    {
      "cell_type": "code",
      "metadata": {
        "id": "0Wnk4eHpvHKJ"
      },
      "source": [
        ""
      ],
      "execution_count": null,
      "outputs": []
    },
    {
      "cell_type": "code",
      "metadata": {
        "colab": {
          "base_uri": "https://localhost:8080/"
        },
        "id": "yuIleSwVvL18",
        "outputId": "433aa1b3-af7d-4354-f5ad-46fd67c4246c"
      },
      "source": [
        "#x_new = ['3','5','4','3','5','4','3','5','2','2','5','2','5','4','2','5','5','3','2','5','5','4','2','3','4']\n",
        " \n",
        "new_pred  = clf.predict([x_new])\n",
        "print(\"Prediction : {}\".format(y1[y1['Associated Number']==new_pred[0]]['ROLE']))"
      ],
      "execution_count": null,
      "outputs": [
        {
          "output_type": "stream",
          "name": "stdout",
          "text": [
            "Prediction : 4    Technical Writer\n",
            "Name: ROLE, dtype: object\n"
          ]
        },
        {
          "output_type": "stream",
          "name": "stderr",
          "text": [
            "/usr/local/lib/python3.7/dist-packages/sklearn/base.py:446: UserWarning: X does not have valid feature names, but DecisionTreeClassifier was fitted with feature names\n",
            "  \"X does not have valid feature names, but\"\n"
          ]
        }
      ]
    },
    {
      "cell_type": "code",
      "metadata": {
        "id": "fowIGH_wAbCP"
      },
      "source": [
        ""
      ],
      "execution_count": null,
      "outputs": []
    },
    {
      "cell_type": "markdown",
      "metadata": {
        "id": "BoGfTsYM7-oy"
      },
      "source": [
        "\n",
        "\n",
        "#**Comparison**"
      ]
    },
    {
      "cell_type": "code",
      "metadata": {
        "id": "bsk5p3ZHnGQ8"
      },
      "source": [
        ""
      ],
      "execution_count": null,
      "outputs": []
    },
    {
      "cell_type": "markdown",
      "metadata": {
        "id": "HjpCuFbI7-oy"
      },
      "source": [
        "SVM"
      ]
    },
    {
      "cell_type": "code",
      "metadata": {
        "colab": {
          "base_uri": "https://localhost:8080/"
        },
        "id": "amZgMFQn7-oz",
        "outputId": "a2d497bc-88e3-4fa7-e56c-7ac9a96bb061"
      },
      "source": [
        "svm(X_train,y_train,X_test,y_test)"
      ],
      "execution_count": null,
      "outputs": [
        {
          "output_type": "stream",
          "name": "stdout",
          "text": [
            "Model accuracy score with default hyperparameters: 40.0000\n"
          ]
        },
        {
          "output_type": "stream",
          "name": "stderr",
          "text": [
            "/usr/local/lib/python3.7/dist-packages/sklearn/utils/validation.py:985: DataConversionWarning: A column-vector y was passed when a 1d array was expected. Please change the shape of y to (n_samples, ), for example using ravel().\n",
            "  y = column_or_1d(y, warn=True)\n"
          ]
        },
        {
          "output_type": "execute_result",
          "data": {
            "text/plain": [
              "40.0"
            ]
          },
          "metadata": {},
          "execution_count": 106
        }
      ]
    },
    {
      "cell_type": "markdown",
      "metadata": {
        "id": "e1WyrPKA7-oz"
      },
      "source": [
        "DECISION TREE"
      ]
    },
    {
      "cell_type": "code",
      "metadata": {
        "colab": {
          "base_uri": "https://localhost:8080/"
        },
        "id": "Fk0m6lof7-o0",
        "outputId": "b260e964-de48-4324-aeee-be2e11f77731"
      },
      "source": [
        " Dec_tree(X_train,y_train,X_test,y_test)"
      ],
      "execution_count": null,
      "outputs": [
        {
          "output_type": "stream",
          "name": "stdout",
          "text": [
            "Model accuracy score with Decision Tree 30.0\n"
          ]
        },
        {
          "output_type": "execute_result",
          "data": {
            "text/plain": [
              "(30.0, DecisionTreeClassifier())"
            ]
          },
          "metadata": {},
          "execution_count": 108
        }
      ]
    },
    {
      "cell_type": "markdown",
      "metadata": {
        "id": "7SStT1mfddNu"
      },
      "source": [
        "#***VISUALIZATION***"
      ]
    },
    {
      "cell_type": "code",
      "metadata": {
        "id": "C_2liy6Pdg55"
      },
      "source": [
        "import matplotlib as mpl\n",
        "%matplotlib inline\n",
        "import matplotlib.axes as ax"
      ],
      "execution_count": null,
      "outputs": []
    },
    {
      "cell_type": "code",
      "metadata": {
        "colab": {
          "base_uri": "https://localhost:8080/",
          "height": 600
        },
        "id": "afYMDT1Mdlym",
        "outputId": "3a0db11a-9748-497a-8c50-f953a33879f6"
      },
      "source": [
        "df = pd.read_csv('https://raw.githubusercontent.com/abhiskp/Machine-Learning---A-Case-Study/main/career_compute_dataset.csv')\n",
        "df"
      ],
      "execution_count": null,
      "outputs": [
        {
          "output_type": "execute_result",
          "data": {
            "text/html": [
              "<div>\n",
              "<style scoped>\n",
              "    .dataframe tbody tr th:only-of-type {\n",
              "        vertical-align: middle;\n",
              "    }\n",
              "\n",
              "    .dataframe tbody tr th {\n",
              "        vertical-align: top;\n",
              "    }\n",
              "\n",
              "    .dataframe thead th {\n",
              "        text-align: right;\n",
              "    }\n",
              "</style>\n",
              "<table border=\"1\" class=\"dataframe\">\n",
              "  <thead>\n",
              "    <tr style=\"text-align: right;\">\n",
              "      <th></th>\n",
              "      <th>SSC Score</th>\n",
              "      <th>HSC score</th>\n",
              "      <th>Cgpa</th>\n",
              "      <th>school_Rank</th>\n",
              "      <th>no_of_miniprojects</th>\n",
              "      <th>no_of_projects</th>\n",
              "      <th>coresub_skill</th>\n",
              "      <th>aptitude_skill</th>\n",
              "      <th>problemsolving_skill</th>\n",
              "      <th>programming_skill</th>\n",
              "      <th>abstractthink_skill</th>\n",
              "      <th>design_skill</th>\n",
              "      <th>self-learning capability?</th>\n",
              "      <th>reading and writing skills</th>\n",
              "      <th>memory capability score</th>\n",
              "      <th>Coding_Skills</th>\n",
              "      <th>technology_used</th>\n",
              "      <th>sympos_attend</th>\n",
              "      <th>sympos_won</th>\n",
              "      <th>extracurricular</th>\n",
              "      <th>learning_style</th>\n",
              "      <th>Type of company want to settle in?</th>\n",
              "      <th>clg_teachers_know</th>\n",
              "      <th>college_performence</th>\n",
              "      <th>Technical_Skills</th>\n",
              "      <th>ROLE</th>\n",
              "    </tr>\n",
              "  </thead>\n",
              "  <tbody>\n",
              "    <tr>\n",
              "      <th>0</th>\n",
              "      <td>2</td>\n",
              "      <td>3</td>\n",
              "      <td>2</td>\n",
              "      <td>3</td>\n",
              "      <td>1</td>\n",
              "      <td>1</td>\n",
              "      <td>1</td>\n",
              "      <td>1</td>\n",
              "      <td>2</td>\n",
              "      <td>4</td>\n",
              "      <td>2</td>\n",
              "      <td>2</td>\n",
              "      <td>2</td>\n",
              "      <td>3</td>\n",
              "      <td>4</td>\n",
              "      <td>1</td>\n",
              "      <td>1</td>\n",
              "      <td>3</td>\n",
              "      <td>1</td>\n",
              "      <td>2</td>\n",
              "      <td>2</td>\n",
              "      <td>4</td>\n",
              "      <td>3</td>\n",
              "      <td>4</td>\n",
              "      <td>5</td>\n",
              "      <td>Technical Support</td>\n",
              "    </tr>\n",
              "    <tr>\n",
              "      <th>1</th>\n",
              "      <td>3</td>\n",
              "      <td>1</td>\n",
              "      <td>2</td>\n",
              "      <td>2</td>\n",
              "      <td>2</td>\n",
              "      <td>1</td>\n",
              "      <td>1</td>\n",
              "      <td>3</td>\n",
              "      <td>2</td>\n",
              "      <td>4</td>\n",
              "      <td>3</td>\n",
              "      <td>3</td>\n",
              "      <td>1</td>\n",
              "      <td>3</td>\n",
              "      <td>4</td>\n",
              "      <td>2</td>\n",
              "      <td>2</td>\n",
              "      <td>3</td>\n",
              "      <td>2</td>\n",
              "      <td>3</td>\n",
              "      <td>2</td>\n",
              "      <td>5</td>\n",
              "      <td>3</td>\n",
              "      <td>3</td>\n",
              "      <td>4</td>\n",
              "      <td>Software Developer</td>\n",
              "    </tr>\n",
              "    <tr>\n",
              "      <th>2</th>\n",
              "      <td>3</td>\n",
              "      <td>4</td>\n",
              "      <td>2</td>\n",
              "      <td>2</td>\n",
              "      <td>1</td>\n",
              "      <td>1</td>\n",
              "      <td>1</td>\n",
              "      <td>2</td>\n",
              "      <td>3</td>\n",
              "      <td>3</td>\n",
              "      <td>2</td>\n",
              "      <td>3</td>\n",
              "      <td>2</td>\n",
              "      <td>2</td>\n",
              "      <td>2</td>\n",
              "      <td>1</td>\n",
              "      <td>1</td>\n",
              "      <td>4</td>\n",
              "      <td>3</td>\n",
              "      <td>1</td>\n",
              "      <td>4</td>\n",
              "      <td>3</td>\n",
              "      <td>3</td>\n",
              "      <td>3</td>\n",
              "      <td>4</td>\n",
              "      <td>UI/UX Designer</td>\n",
              "    </tr>\n",
              "    <tr>\n",
              "      <th>3</th>\n",
              "      <td>3</td>\n",
              "      <td>4</td>\n",
              "      <td>2</td>\n",
              "      <td>1</td>\n",
              "      <td>1</td>\n",
              "      <td>1</td>\n",
              "      <td>1</td>\n",
              "      <td>1</td>\n",
              "      <td>3</td>\n",
              "      <td>2</td>\n",
              "      <td>2</td>\n",
              "      <td>2</td>\n",
              "      <td>2</td>\n",
              "      <td>3</td>\n",
              "      <td>4</td>\n",
              "      <td>2</td>\n",
              "      <td>1</td>\n",
              "      <td>3</td>\n",
              "      <td>2</td>\n",
              "      <td>1</td>\n",
              "      <td>2</td>\n",
              "      <td>1</td>\n",
              "      <td>4</td>\n",
              "      <td>4</td>\n",
              "      <td>3</td>\n",
              "      <td>Technical Support</td>\n",
              "    </tr>\n",
              "    <tr>\n",
              "      <th>4</th>\n",
              "      <td>2</td>\n",
              "      <td>3</td>\n",
              "      <td>2</td>\n",
              "      <td>4</td>\n",
              "      <td>1</td>\n",
              "      <td>1</td>\n",
              "      <td>1</td>\n",
              "      <td>4</td>\n",
              "      <td>3</td>\n",
              "      <td>3</td>\n",
              "      <td>2</td>\n",
              "      <td>3</td>\n",
              "      <td>2</td>\n",
              "      <td>4</td>\n",
              "      <td>4</td>\n",
              "      <td>2</td>\n",
              "      <td>1</td>\n",
              "      <td>2</td>\n",
              "      <td>1</td>\n",
              "      <td>3</td>\n",
              "      <td>1</td>\n",
              "      <td>5</td>\n",
              "      <td>4</td>\n",
              "      <td>3</td>\n",
              "      <td>1</td>\n",
              "      <td>Data Analyst</td>\n",
              "    </tr>\n",
              "    <tr>\n",
              "      <th>...</th>\n",
              "      <td>...</td>\n",
              "      <td>...</td>\n",
              "      <td>...</td>\n",
              "      <td>...</td>\n",
              "      <td>...</td>\n",
              "      <td>...</td>\n",
              "      <td>...</td>\n",
              "      <td>...</td>\n",
              "      <td>...</td>\n",
              "      <td>...</td>\n",
              "      <td>...</td>\n",
              "      <td>...</td>\n",
              "      <td>...</td>\n",
              "      <td>...</td>\n",
              "      <td>...</td>\n",
              "      <td>...</td>\n",
              "      <td>...</td>\n",
              "      <td>...</td>\n",
              "      <td>...</td>\n",
              "      <td>...</td>\n",
              "      <td>...</td>\n",
              "      <td>...</td>\n",
              "      <td>...</td>\n",
              "      <td>...</td>\n",
              "      <td>...</td>\n",
              "      <td>...</td>\n",
              "    </tr>\n",
              "    <tr>\n",
              "      <th>7520</th>\n",
              "      <td>3</td>\n",
              "      <td>2</td>\n",
              "      <td>1</td>\n",
              "      <td>2</td>\n",
              "      <td>1</td>\n",
              "      <td>1</td>\n",
              "      <td>2</td>\n",
              "      <td>2</td>\n",
              "      <td>3</td>\n",
              "      <td>3</td>\n",
              "      <td>3</td>\n",
              "      <td>4</td>\n",
              "      <td>2</td>\n",
              "      <td>4</td>\n",
              "      <td>4</td>\n",
              "      <td>4</td>\n",
              "      <td>1</td>\n",
              "      <td>4</td>\n",
              "      <td>2</td>\n",
              "      <td>2</td>\n",
              "      <td>1</td>\n",
              "      <td>4</td>\n",
              "      <td>4</td>\n",
              "      <td>3</td>\n",
              "      <td>3</td>\n",
              "      <td>NaN</td>\n",
              "    </tr>\n",
              "    <tr>\n",
              "      <th>7521</th>\n",
              "      <td>2</td>\n",
              "      <td>3</td>\n",
              "      <td>3</td>\n",
              "      <td>3</td>\n",
              "      <td>4</td>\n",
              "      <td>3</td>\n",
              "      <td>2</td>\n",
              "      <td>1</td>\n",
              "      <td>3</td>\n",
              "      <td>3</td>\n",
              "      <td>3</td>\n",
              "      <td>3</td>\n",
              "      <td>2</td>\n",
              "      <td>4</td>\n",
              "      <td>4</td>\n",
              "      <td>3</td>\n",
              "      <td>4</td>\n",
              "      <td>2</td>\n",
              "      <td>3</td>\n",
              "      <td>2</td>\n",
              "      <td>4</td>\n",
              "      <td>1</td>\n",
              "      <td>3</td>\n",
              "      <td>3</td>\n",
              "      <td>2</td>\n",
              "      <td>NaN</td>\n",
              "    </tr>\n",
              "    <tr>\n",
              "      <th>7522</th>\n",
              "      <td>3</td>\n",
              "      <td>2</td>\n",
              "      <td>1</td>\n",
              "      <td>2</td>\n",
              "      <td>1</td>\n",
              "      <td>1</td>\n",
              "      <td>1</td>\n",
              "      <td>2</td>\n",
              "      <td>2</td>\n",
              "      <td>3</td>\n",
              "      <td>1</td>\n",
              "      <td>2</td>\n",
              "      <td>1</td>\n",
              "      <td>3</td>\n",
              "      <td>3</td>\n",
              "      <td>2</td>\n",
              "      <td>1</td>\n",
              "      <td>3</td>\n",
              "      <td>1</td>\n",
              "      <td>1</td>\n",
              "      <td>3</td>\n",
              "      <td>5</td>\n",
              "      <td>3</td>\n",
              "      <td>3</td>\n",
              "      <td>4</td>\n",
              "      <td>NaN</td>\n",
              "    </tr>\n",
              "    <tr>\n",
              "      <th>7523</th>\n",
              "      <td>2</td>\n",
              "      <td>1</td>\n",
              "      <td>1</td>\n",
              "      <td>1</td>\n",
              "      <td>2</td>\n",
              "      <td>1</td>\n",
              "      <td>1</td>\n",
              "      <td>2</td>\n",
              "      <td>2</td>\n",
              "      <td>2</td>\n",
              "      <td>2</td>\n",
              "      <td>3</td>\n",
              "      <td>1</td>\n",
              "      <td>3</td>\n",
              "      <td>4</td>\n",
              "      <td>2</td>\n",
              "      <td>1</td>\n",
              "      <td>3</td>\n",
              "      <td>2</td>\n",
              "      <td>1</td>\n",
              "      <td>2</td>\n",
              "      <td>4</td>\n",
              "      <td>4</td>\n",
              "      <td>3</td>\n",
              "      <td>4</td>\n",
              "      <td>NaN</td>\n",
              "    </tr>\n",
              "    <tr>\n",
              "      <th>7524</th>\n",
              "      <td>2</td>\n",
              "      <td>2</td>\n",
              "      <td>2</td>\n",
              "      <td>3</td>\n",
              "      <td>2</td>\n",
              "      <td>1</td>\n",
              "      <td>1</td>\n",
              "      <td>1</td>\n",
              "      <td>2</td>\n",
              "      <td>3</td>\n",
              "      <td>2</td>\n",
              "      <td>3</td>\n",
              "      <td>2</td>\n",
              "      <td>2</td>\n",
              "      <td>4</td>\n",
              "      <td>1</td>\n",
              "      <td>1</td>\n",
              "      <td>4</td>\n",
              "      <td>1</td>\n",
              "      <td>1</td>\n",
              "      <td>3</td>\n",
              "      <td>5</td>\n",
              "      <td>3</td>\n",
              "      <td>3</td>\n",
              "      <td>5</td>\n",
              "      <td>NaN</td>\n",
              "    </tr>\n",
              "  </tbody>\n",
              "</table>\n",
              "<p>7525 rows × 26 columns</p>\n",
              "</div>"
            ],
            "text/plain": [
              "      SSC Score  HSC score  ...  Technical_Skills                ROLE\n",
              "0             2          3  ...                 5   Technical Support\n",
              "1             3          1  ...                 4  Software Developer\n",
              "2             3          4  ...                 4      UI/UX Designer\n",
              "3             3          4  ...                 3   Technical Support\n",
              "4             2          3  ...                 1        Data Analyst\n",
              "...         ...        ...  ...               ...                 ...\n",
              "7520          3          2  ...                 3                 NaN\n",
              "7521          2          3  ...                 2                 NaN\n",
              "7522          3          2  ...                 4                 NaN\n",
              "7523          2          1  ...                 4                 NaN\n",
              "7524          2          2  ...                 5                 NaN\n",
              "\n",
              "[7525 rows x 26 columns]"
            ]
          },
          "metadata": {},
          "execution_count": 107
        }
      ]
    },
    {
      "cell_type": "code",
      "metadata": {
        "colab": {
          "base_uri": "https://localhost:8080/"
        },
        "id": "BuWeZvFmd1PF",
        "outputId": "b727ed27-c39c-4c4b-e0b9-353f0409dfe8"
      },
      "source": [
        "df[\"ROLE\"].unique()"
      ],
      "execution_count": null,
      "outputs": [
        {
          "output_type": "execute_result",
          "data": {
            "text/plain": [
              "array(['Technical Support', 'Software Developer', 'UI/UX Designer',\n",
              "       'Data Analyst', 'Technical Writer', 'Web Developer',\n",
              "       'Software Tester', 'Business Analyst', 'Quility Assurance officer',\n",
              "       'Marketing Manger', 'Database Developer', nan], dtype=object)"
            ]
          },
          "metadata": {},
          "execution_count": 90
        }
      ]
    },
    {
      "cell_type": "code",
      "metadata": {
        "colab": {
          "base_uri": "https://localhost:8080/"
        },
        "id": "liNfLj2Od3Ga",
        "outputId": "1a554d88-4ecd-4994-f570-550b5d9f977c"
      },
      "source": [
        "df[\"Type of company want to settle in?\"].unique()"
      ],
      "execution_count": null,
      "outputs": [
        {
          "output_type": "execute_result",
          "data": {
            "text/plain": [
              "array([4, 5, 3, 1, 2])"
            ]
          },
          "metadata": {},
          "execution_count": 91
        }
      ]
    },
    {
      "cell_type": "code",
      "metadata": {
        "colab": {
          "base_uri": "https://localhost:8080/",
          "height": 625
        },
        "id": "46fusf91d5Ja",
        "outputId": "fd103513-9fb8-4a8e-c65c-dd535fc59376"
      },
      "source": [
        "plt.subplots(figsize=(15,10))\n",
        "sns.barplot(x=\"Coding_Skills\", y=\"ROLE\", data=df)  "
      ],
      "execution_count": null,
      "outputs": [
        {
          "output_type": "execute_result",
          "data": {
            "text/plain": [
              "<matplotlib.axes._subplots.AxesSubplot at 0x7f6530e5a090>"
            ]
          },
          "metadata": {},
          "execution_count": 92
        },
        {
          "output_type": "display_data",
          "data": {
            "image/png": "[encoded data removed]",
            "text/plain": [
              "<Figure size 1080x720 with 1 Axes>"
            ]
          },
          "metadata": {
            "needs_background": "light"
          }
        }
      ]
    },
    {
      "cell_type": "code",
      "metadata": {
        "colab": {
          "base_uri": "https://localhost:8080/",
          "height": 571
        },
        "id": "RuzQvuC2d7qa",
        "outputId": "a388e5ca-5a17-46a3-90af-fde8590a5503"
      },
      "source": [
        "plt.subplots(figsize=(30,10))\n",
        "sns.barplot(x=\"ROLE\", y=\"Cgpa\", hue=\"SSC Score\", data=df)  \n"
      ],
      "execution_count": null,
      "outputs": [
        {
          "output_type": "execute_result",
          "data": {
            "text/plain": [
              "<matplotlib.axes._subplots.AxesSubplot at 0x7f6530e5af50>"
            ]
          },
          "metadata": {},
          "execution_count": 93
        },
        {
          "output_type": "display_data",
          "data": {
            "image/png": "[encoded data removed]",
            "text/plain": [
              "<Figure size 2160x720 with 1 Axes>"
            ]
          },
          "metadata": {
            "needs_background": "light"
          }
        }
      ]
    },
    {
      "cell_type": "code",
      "metadata": {
        "colab": {
          "base_uri": "https://localhost:8080/",
          "height": 701
        },
        "id": "-WpxllYTd9Xn",
        "outputId": "8a2c9c33-fdef-4471-c052-4274a23f1752"
      },
      "source": [
        "plt.subplots(figsize=(15,10))\n",
        "plt.legend(ncol=2)\n",
        "sns.barplot(df['Type of company want to settle in?'],df['problemsolving_skill'],hue=df['programming_skill'])"
      ],
      "execution_count": null,
      "outputs": [
        {
          "output_type": "stream",
          "name": "stderr",
          "text": [
            "No handles with labels found to put in legend.\n",
            "/usr/local/lib/python3.7/dist-packages/seaborn/_decorators.py:43: FutureWarning: Pass the following variables as keyword args: x, y. From version 0.12, the only valid positional argument will be `data`, and passing other arguments without an explicit keyword will result in an error or misinterpretation.\n",
            "  FutureWarning\n"
          ]
        },
        {
          "output_type": "execute_result",
          "data": {
            "text/plain": [
              "<matplotlib.axes._subplots.AxesSubplot at 0x7f6530bb4a50>"
            ]
          },
          "metadata": {},
          "execution_count": 94
        },
        {
          "output_type": "display_data",
          "data": {
            "image/png": "[encoded data removed]",
            "text/plain": [
              "<Figure size 1080x720 with 1 Axes>"
            ]
          },
          "metadata": {
            "needs_background": "light"
          }
        }
      ]
    },
    {
      "cell_type": "code",
      "metadata": {
        "id": "4ea3e_PgeH3i"
      },
      "source": [
        "x=df[\"Type of company want to settle in?\"]\n",
        "y=df[\"Cgpa\"]"
      ],
      "execution_count": null,
      "outputs": []
    },
    {
      "cell_type": "code",
      "metadata": {
        "colab": {
          "base_uri": "https://localhost:8080/",
          "height": 479
        },
        "id": "en_PIfTFeQWJ",
        "outputId": "ec3e7276-5006-44d2-eb69-9fb11c06403f"
      },
      "source": [
        "import pylab\n",
        "from mpl_toolkits.mplot3d import Axes3D\n",
        "plt.axes(projection='3d')\n",
        "type(ax)\n",
        "fig = plt.figure()\n",
        "ax = fig.add_subplot(111,projection='3d')\n",
        "\n",
        "x=df[\"Type of company want to settle in?\"]\n",
        "y=df[\"Cgpa\"]\n",
        "z=df[\"SSC Score\"]\n",
        "\n",
        "ax.scatter(x,y,z,marker = 'o',c = 'b')\n",
        "ax.set_xlabel('x axis')\n",
        "ax.set_ylabel('y axis')\n",
        "ax.set_zlabel('z axis')\n",
        "plt.show()"
      ],
      "execution_count": null,
      "outputs": [
        {
          "output_type": "display_data",
          "data": {
            "image/png": "[encoded data removed]",
            "text/plain": [
              "<Figure size 432x288 with 1 Axes>"
            ]
          },
          "metadata": {
            "needs_background": "light"
          }
        },
        {
          "output_type": "display_data",
          "data": {
            "image/png": "[encoded data removed]",
            "text/plain": [
              "<Figure size 432x288 with 1 Axes>"
            ]
          },
          "metadata": {
            "needs_background": "light"
          }
        }
      ]
    },
    {
      "cell_type": "code",
      "metadata": {
        "colab": {
          "base_uri": "https://localhost:8080/",
          "height": 187
        },
        "id": "3XkCkTLneT_Q",
        "outputId": "e437f81b-366d-4cb4-90ae-3b2868d99c65"
      },
      "source": [
        "df.head(1)"
      ],
      "execution_count": null,
      "outputs": [
        {
          "output_type": "execute_result",
          "data": {
            "text/html": [
              "<div>\n",
              "<style scoped>\n",
              "    .dataframe tbody tr th:only-of-type {\n",
              "        vertical-align: middle;\n",
              "    }\n",
              "\n",
              "    .dataframe tbody tr th {\n",
              "        vertical-align: top;\n",
              "    }\n",
              "\n",
              "    .dataframe thead th {\n",
              "        text-align: right;\n",
              "    }\n",
              "</style>\n",
              "<table border=\"1\" class=\"dataframe\">\n",
              "  <thead>\n",
              "    <tr style=\"text-align: right;\">\n",
              "      <th></th>\n",
              "      <th>SSC Score</th>\n",
              "      <th>HSC score</th>\n",
              "      <th>Cgpa</th>\n",
              "      <th>school_Rank</th>\n",
              "      <th>no_of_miniprojects</th>\n",
              "      <th>no_of_projects</th>\n",
              "      <th>coresub_skill</th>\n",
              "      <th>aptitude_skill</th>\n",
              "      <th>problemsolving_skill</th>\n",
              "      <th>programming_skill</th>\n",
              "      <th>abstractthink_skill</th>\n",
              "      <th>design_skill</th>\n",
              "      <th>self-learning capability?</th>\n",
              "      <th>reading and writing skills</th>\n",
              "      <th>memory capability score</th>\n",
              "      <th>Coding_Skills</th>\n",
              "      <th>technology_used</th>\n",
              "      <th>sympos_attend</th>\n",
              "      <th>sympos_won</th>\n",
              "      <th>extracurricular</th>\n",
              "      <th>learning_style</th>\n",
              "      <th>Type of company want to settle in?</th>\n",
              "      <th>clg_teachers_know</th>\n",
              "      <th>college_performence</th>\n",
              "      <th>Technical_Skills</th>\n",
              "      <th>ROLE</th>\n",
              "    </tr>\n",
              "  </thead>\n",
              "  <tbody>\n",
              "    <tr>\n",
              "      <th>0</th>\n",
              "      <td>2</td>\n",
              "      <td>3</td>\n",
              "      <td>2</td>\n",
              "      <td>3</td>\n",
              "      <td>1</td>\n",
              "      <td>1</td>\n",
              "      <td>1</td>\n",
              "      <td>1</td>\n",
              "      <td>2</td>\n",
              "      <td>4</td>\n",
              "      <td>2</td>\n",
              "      <td>2</td>\n",
              "      <td>2</td>\n",
              "      <td>3</td>\n",
              "      <td>4</td>\n",
              "      <td>1</td>\n",
              "      <td>1</td>\n",
              "      <td>3</td>\n",
              "      <td>1</td>\n",
              "      <td>2</td>\n",
              "      <td>2</td>\n",
              "      <td>4</td>\n",
              "      <td>3</td>\n",
              "      <td>4</td>\n",
              "      <td>5</td>\n",
              "      <td>Technical Support</td>\n",
              "    </tr>\n",
              "  </tbody>\n",
              "</table>\n",
              "</div>"
            ],
            "text/plain": [
              "   SSC Score  HSC score  ...  Technical_Skills               ROLE\n",
              "0          2          3  ...                 5  Technical Support\n",
              "\n",
              "[1 rows x 26 columns]"
            ]
          },
          "metadata": {},
          "execution_count": 71
        }
      ]
    },
    {
      "cell_type": "code",
      "metadata": {
        "colab": {
          "base_uri": "https://localhost:8080/",
          "height": 536
        },
        "id": "nJalYSi2eYrZ",
        "outputId": "0131d988-39d1-4120-d50e-78754182fdb6"
      },
      "source": [
        "plt.figure(figsize=(10, 15), dpi=80)\n",
        "\n",
        "sns.jointplot(df['programming_skill'],df['problemsolving_skill'],kind=\"kde\")"
      ],
      "execution_count": null,
      "outputs": [
        {
          "output_type": "stream",
          "name": "stderr",
          "text": [
            "/usr/local/lib/python3.7/dist-packages/seaborn/_decorators.py:43: FutureWarning: Pass the following variables as keyword args: x, y. From version 0.12, the only valid positional argument will be `data`, and passing other arguments without an explicit keyword will result in an error or misinterpretation.\n",
            "  FutureWarning\n"
          ]
        },
        {
          "output_type": "execute_result",
          "data": {
            "text/plain": [
              "<seaborn.axisgrid.JointGrid at 0x7fc0a74717d0>"
            ]
          },
          "metadata": {},
          "execution_count": 72
        },
        {
          "output_type": "display_data",
          "data": {
            "text/plain": [
              "<Figure size 800x1200 with 0 Axes>"
            ]
          },
          "metadata": {}
        },
        {
          "output_type": "display_data",
          "data": {
            "image/png": "[encoded data removed]",
            "text/plain": [
              "<Figure size 432x432 with 3 Axes>"
            ]
          },
          "metadata": {
            "needs_background": "light"
          }
        }
      ]
    }
  ]
}